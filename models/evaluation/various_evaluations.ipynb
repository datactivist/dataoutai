{
 "cells": [
  {
   "cell_type": "code",
   "execution_count": 1,
   "outputs": [],
   "source": [
    "import pickle\n",
    "from sklearn import preprocessing\n",
    "import matplotlib.pyplot as plt\n",
    "import seaborn as sns\n",
    "import numpy as np\n",
    "import json\n",
    "import collections\n",
    "import pandas as pd"
   ],
   "metadata": {
    "collapsed": false,
    "pycharm": {
     "name": "#%%\n"
    }
   }
  },
  {
   "cell_type": "code",
   "execution_count": 2,
   "outputs": [],
   "source": [
    "def extract_gold(file_path: str):\n",
    "\n",
    "    with open(file_path, encoding=\"utf8\") as f:\n",
    "        datas = json.load(f)\n",
    "\n",
    "    group_gold = {}\n",
    "    datasets = datas[\"datasets\"]\n",
    "\n",
    "    for d in datasets:\n",
    "        group_gold[d[\"dataset_name\"]] = d[\"metadata\"][\"groups\"]\n",
    "\n",
    "    return group_gold"
   ],
   "metadata": {
    "collapsed": false,
    "pycharm": {
     "name": "#%%\n"
    }
   }
  },
  {
   "cell_type": "markdown",
   "source": [
    "# Analyse et visualisation sur la répartition des groupes"
   ],
   "metadata": {
    "collapsed": false,
    "pycharm": {
     "name": "#%% md\n"
    }
   }
  },
  {
   "cell_type": "code",
   "execution_count": 3,
   "metadata": {
    "collapsed": true
   },
   "outputs": [
    {
     "data": {
      "text/plain": "<Figure size 432x288 with 1 Axes>",
      "image/png": "[encoded data removed]"
     },
     "metadata": {
      "needs_background": "light"
     },
     "output_type": "display_data"
    }
   ],
   "source": [
    "file_path = \"../../data/datasud.json\"\n",
    "group_gold = extract_gold(file_path)\n",
    "c = collections.Counter()\n",
    "for g_value in group_gold.values():\n",
    "    c.update(g_value)\n",
    "c = c.most_common()\n",
    "\n",
    "_, ax = plt.subplots()\n",
    "ax.tick_params(axis=\"x\", labelsize=5)\n",
    "plt.title(f\"Nombre d\\'apparition des groupes sur DataSud\")\n",
    "plt.xticks(rotation=\"vertical\")\n",
    "plt.bar([c[0] for c in c], [c[1] for c in c])\n",
    "plt.tight_layout()\n",
    "plt.show()"
   ]
  },
  {
   "cell_type": "code",
   "execution_count": 4,
   "outputs": [
    {
     "name": "stdout",
     "output_type": "stream",
     "text": [
      "Counter({1: 855, 2: 613, 0: 258, 3: 210, 4: 70, 7: 17, 5: 15, 6: 3, 13: 2, 14: 1, 15: 1, 8: 1})\n"
     ]
    },
    {
     "data": {
      "text/plain": "<Figure size 432x288 with 1 Axes>",
      "image/png": "[encoded data removed]"
     },
     "metadata": {
      "needs_background": "light"
     },
     "output_type": "display_data"
    }
   ],
   "source": [
    "len_c = collections.Counter(list(map(len,group_gold.values())))\n",
    "\n",
    "print(len_c)\n",
    "_, ax = plt.subplots()\n",
    "plt.title(f\"Nombre de datasets par nombre de groupes\")\n",
    "plt.xticks(rotation=\"vertical\")\n",
    "plt.bar(len_c.keys(), len_c.values())\n",
    "plt.tight_layout()\n",
    "plt.show()"
   ],
   "metadata": {
    "collapsed": false,
    "pycharm": {
     "name": "#%%\n"
    }
   }
  },
  {
   "cell_type": "markdown",
   "source": [
    "# Extraction des données gold et alignement avec les données prédites"
   ],
   "metadata": {
    "collapsed": false,
    "pycharm": {
     "name": "#%% md\n"
    }
   }
  },
  {
   "cell_type": "code",
   "execution_count": 5,
   "outputs": [],
   "source": [
    "def get_groups_len(file_path,l) :\n",
    "\n",
    "    with open(f\"{file_path}\", \"rb\") as input_file:\n",
    "        clusters = pickle.load(input_file)\n",
    "\n",
    "    gold = []\n",
    "    pred = []\n",
    "\n",
    "    le =  preprocessing.LabelEncoder()\n",
    "    all_group = list({x for l in group_gold.values() for x in l})\n",
    "    le.fit(all_group)\n",
    "\n",
    "    for dataset,groups in group_gold.items() :\n",
    "        if len(groups) == l :\n",
    "            gold.append(le.transform(groups)[0])\n",
    "            pred.append(clusters[dataset])\n",
    "\n",
    "    return gold,pred"
   ],
   "metadata": {
    "collapsed": false,
    "pycharm": {
     "name": "#%%\n"
    }
   }
  },
  {
   "cell_type": "markdown",
   "source": [
    "# Calcul des différents scores"
   ],
   "metadata": {
    "collapsed": false
   }
  },
  {
   "cell_type": "code",
   "execution_count": 6,
   "outputs": [],
   "source": [
    "SHOW = False"
   ],
   "metadata": {
    "collapsed": false,
    "pycharm": {
     "name": "#%%\n"
    }
   }
  },
  {
   "cell_type": "code",
   "execution_count": 7,
   "outputs": [],
   "source": [
    "from sklearn.metrics.cluster import homogeneity_completeness_v_measure, pair_confusion_matrix, contingency_matrix\n",
    "from sklearn.metrics import rand_score, fowlkes_mallows_score\n",
    "\n",
    "def evaluate_clusters(gold,pred,show=SHOW,repr = \"\",model =\"\"):\n",
    "    rand = rand_score(gold,pred)\n",
    "    homogeneity, completeness, v_measure = homogeneity_completeness_v_measure(gold,pred)\n",
    "    fowlkes_mallows = fowlkes_mallows_score(gold,pred)\n",
    "    pair_confusion = pair_confusion_matrix(gold,pred)\n",
    "    contingency = contingency_matrix(gold, pred)\n",
    "    purity = np.sum(np.amax(contingency, axis=0)) / np.sum(contingency)\n",
    "\n",
    "    if show :\n",
    "        print(f\"For {len(gold)} datas :\")\n",
    "        print(f\"Rand index = {rand}\")\n",
    "        #A clustering result satisfies homogeneity if all of its clusters contain only data points which are members of a single class.\n",
    "        print(f\"Homogeneity = {homogeneity}\") #\n",
    "        #A clustering result satisfies completeness if all the data points that are members of a given class are elements of the same cluster.\n",
    "        print(f\"Completeness = {completeness}\")\n",
    "        #The V-measure is the harmonic mean between homogeneity and completeness:\n",
    "        print(f\"V measure = {v_measure}\")\n",
    "        #The Fowlkes-Mallows score FMI is defined as the geometric mean of the pairwise precision and recall\n",
    "        print(f\"Fowlkes-Mallows = {fowlkes_mallows}\")\n",
    "        #To compute purity , each cluster is assigned to the class which is most frequent in the cluster, and then the accuracy of this assignment is measured by counting the number of correctly assigned documents and dividing by N.\n",
    "        print(f\"Purity = {purity}\")\n",
    "        sns.heatmap(pair_confusion, annot=True).set_title(\"Pair Confusion Matrix\")\n",
    "\n",
    "    return {\"representation\" : repr,\"model\" : model,\"homogeneity\" : homogeneity,\"completeness\" : completeness,\"v_measure\" : v_measure,\"fowlkes_mallows\" : fowlkes_mallows,\"purity\":purity}"
   ],
   "metadata": {
    "collapsed": false,
    "pycharm": {
     "name": "#%%\n"
    }
   }
  },
  {
   "cell_type": "code",
   "execution_count": 8,
   "outputs": [],
   "source": [
    "all_results = []"
   ],
   "metadata": {
    "collapsed": false,
    "pycharm": {
     "name": "#%%\n"
    }
   }
  },
  {
   "cell_type": "markdown",
   "source": [
    "### En utilisant les contextual embedding"
   ],
   "metadata": {
    "collapsed": false,
    "pycharm": {
     "name": "#%% md\n"
    }
   }
  },
  {
   "cell_type": "code",
   "execution_count": 9,
   "outputs": [
    {
     "name": "stdout",
     "output_type": "stream",
     "text": [
      "SBert Agglomerative Clustering (10 clusters)\n"
     ]
    },
    {
     "ename": "KeyError",
     "evalue": "'Avignon - Zones piétonnes'",
     "output_type": "error",
     "traceback": [
      "\u001B[1;31m---------------------------------------------------------------------------\u001B[0m",
      "\u001B[1;31mKeyError\u001B[0m                                  Traceback (most recent call last)",
      "\u001B[1;32m~\\AppData\\Local\\Temp/ipykernel_10252/290047209.py\u001B[0m in \u001B[0;36m<module>\u001B[1;34m\u001B[0m\n\u001B[0;32m      1\u001B[0m \u001B[0mprint\u001B[0m\u001B[1;33m(\u001B[0m\u001B[1;34m\"SBert Agglomerative Clustering (10 clusters)\"\u001B[0m\u001B[1;33m)\u001B[0m\u001B[1;33m\u001B[0m\u001B[1;33m\u001B[0m\u001B[0m\n\u001B[1;32m----> 2\u001B[1;33m \u001B[0mgroup_len_1_gold\u001B[0m\u001B[1;33m,\u001B[0m \u001B[0mgroup_len_1_pred\u001B[0m \u001B[1;33m=\u001B[0m \u001B[0mget_groups_len\u001B[0m\u001B[1;33m(\u001B[0m\u001B[1;34m\"clusters/sbert_clusters_datasud_ac.pkl\"\u001B[0m\u001B[1;33m,\u001B[0m\u001B[1;36m1\u001B[0m\u001B[1;33m)\u001B[0m\u001B[1;33m\u001B[0m\u001B[1;33m\u001B[0m\u001B[0m\n\u001B[0m\u001B[0;32m      3\u001B[0m \u001B[0mall_results\u001B[0m\u001B[1;33m.\u001B[0m\u001B[0mappend\u001B[0m\u001B[1;33m(\u001B[0m\u001B[0mevaluate_clusters\u001B[0m\u001B[1;33m(\u001B[0m\u001B[0mgroup_len_1_gold\u001B[0m\u001B[1;33m,\u001B[0m\u001B[0mgroup_len_1_pred\u001B[0m\u001B[1;33m,\u001B[0m\u001B[0mrepr\u001B[0m\u001B[1;33m=\u001B[0m\u001B[1;34m\"SBert\"\u001B[0m\u001B[1;33m,\u001B[0m \u001B[0mmodel\u001B[0m\u001B[1;33m=\u001B[0m\u001B[1;34m\"Agglomerative Clustering (10 clusters)\"\u001B[0m\u001B[1;33m)\u001B[0m\u001B[1;33m)\u001B[0m\u001B[1;33m\u001B[0m\u001B[1;33m\u001B[0m\u001B[0m\n",
      "\u001B[1;32m~\\AppData\\Local\\Temp/ipykernel_10252/3868940056.py\u001B[0m in \u001B[0;36mget_groups_len\u001B[1;34m(file_path, l)\u001B[0m\n\u001B[0;32m     14\u001B[0m         \u001B[1;32mif\u001B[0m \u001B[0mlen\u001B[0m\u001B[1;33m(\u001B[0m\u001B[0mgroups\u001B[0m\u001B[1;33m)\u001B[0m \u001B[1;33m==\u001B[0m \u001B[0ml\u001B[0m \u001B[1;33m:\u001B[0m\u001B[1;33m\u001B[0m\u001B[1;33m\u001B[0m\u001B[0m\n\u001B[0;32m     15\u001B[0m             \u001B[0mgold\u001B[0m\u001B[1;33m.\u001B[0m\u001B[0mappend\u001B[0m\u001B[1;33m(\u001B[0m\u001B[0mle\u001B[0m\u001B[1;33m.\u001B[0m\u001B[0mtransform\u001B[0m\u001B[1;33m(\u001B[0m\u001B[0mgroups\u001B[0m\u001B[1;33m)\u001B[0m\u001B[1;33m[\u001B[0m\u001B[1;36m0\u001B[0m\u001B[1;33m]\u001B[0m\u001B[1;33m)\u001B[0m\u001B[1;33m\u001B[0m\u001B[1;33m\u001B[0m\u001B[0m\n\u001B[1;32m---> 16\u001B[1;33m             \u001B[0mpred\u001B[0m\u001B[1;33m.\u001B[0m\u001B[0mappend\u001B[0m\u001B[1;33m(\u001B[0m\u001B[0mclusters\u001B[0m\u001B[1;33m[\u001B[0m\u001B[0mdataset\u001B[0m\u001B[1;33m]\u001B[0m\u001B[1;33m)\u001B[0m\u001B[1;33m\u001B[0m\u001B[1;33m\u001B[0m\u001B[0m\n\u001B[0m\u001B[0;32m     17\u001B[0m \u001B[1;33m\u001B[0m\u001B[0m\n\u001B[0;32m     18\u001B[0m     \u001B[1;32mreturn\u001B[0m \u001B[0mgold\u001B[0m\u001B[1;33m,\u001B[0m\u001B[0mpred\u001B[0m\u001B[1;33m\u001B[0m\u001B[1;33m\u001B[0m\u001B[0m\n",
      "\u001B[1;31mKeyError\u001B[0m: 'Avignon - Zones piétonnes'"
     ]
    }
   ],
   "source": [
    "print(\"SBert Agglomerative Clustering (10 clusters)\")\n",
    "group_len_1_gold, group_len_1_pred = get_groups_len(\"clusters/sbert_clusters_datasud_ac.pkl\",1)\n",
    "all_results.append(evaluate_clusters(group_len_1_gold,group_len_1_pred,repr=\"SBert\", model=\"Agglomerative Clustering (10 clusters)\"))"
   ],
   "metadata": {
    "collapsed": false,
    "pycharm": {
     "name": "#%%\n"
    }
   }
  },
  {
   "cell_type": "code",
   "execution_count": 10,
   "outputs": [
    {
     "name": "stdout",
     "output_type": "stream",
     "text": [
      "Agglomerative Clustering (15 clusters)\n"
     ]
    },
    {
     "ename": "KeyError",
     "evalue": "'Avignon - Zones piétonnes'",
     "output_type": "error",
     "traceback": [
      "\u001B[1;31m---------------------------------------------------------------------------\u001B[0m",
      "\u001B[1;31mKeyError\u001B[0m                                  Traceback (most recent call last)",
      "\u001B[1;32m~\\AppData\\Local\\Temp/ipykernel_10252/1504014577.py\u001B[0m in \u001B[0;36m<module>\u001B[1;34m\u001B[0m\n\u001B[0;32m      1\u001B[0m \u001B[0mprint\u001B[0m\u001B[1;33m(\u001B[0m\u001B[1;34m\"Agglomerative Clustering (15 clusters)\"\u001B[0m\u001B[1;33m)\u001B[0m\u001B[1;33m\u001B[0m\u001B[1;33m\u001B[0m\u001B[0m\n\u001B[1;32m----> 2\u001B[1;33m \u001B[0mgroup_len_1_gold\u001B[0m\u001B[1;33m,\u001B[0m \u001B[0mgroup_len_1_pred\u001B[0m \u001B[1;33m=\u001B[0m \u001B[0mget_groups_len\u001B[0m\u001B[1;33m(\u001B[0m\u001B[1;34m\"clusters/sbert_clusters_datasud_ac_15.pkl\"\u001B[0m\u001B[1;33m,\u001B[0m\u001B[1;36m1\u001B[0m\u001B[1;33m)\u001B[0m\u001B[1;33m\u001B[0m\u001B[1;33m\u001B[0m\u001B[0m\n\u001B[0m\u001B[0;32m      3\u001B[0m \u001B[0mall_results\u001B[0m\u001B[1;33m.\u001B[0m\u001B[0mappend\u001B[0m\u001B[1;33m(\u001B[0m\u001B[0mevaluate_clusters\u001B[0m\u001B[1;33m(\u001B[0m\u001B[0mgroup_len_1_gold\u001B[0m\u001B[1;33m,\u001B[0m\u001B[0mgroup_len_1_pred\u001B[0m\u001B[1;33m,\u001B[0m\u001B[0mrepr\u001B[0m\u001B[1;33m=\u001B[0m\u001B[1;34m\"SBert\"\u001B[0m\u001B[1;33m,\u001B[0m \u001B[0mmodel\u001B[0m\u001B[1;33m=\u001B[0m\u001B[1;34m\"Agglomerative Clustering (15 clusters)\"\u001B[0m\u001B[1;33m)\u001B[0m\u001B[1;33m)\u001B[0m\u001B[1;33m\u001B[0m\u001B[1;33m\u001B[0m\u001B[0m\n",
      "\u001B[1;32m~\\AppData\\Local\\Temp/ipykernel_10252/3868940056.py\u001B[0m in \u001B[0;36mget_groups_len\u001B[1;34m(file_path, l)\u001B[0m\n\u001B[0;32m     14\u001B[0m         \u001B[1;32mif\u001B[0m \u001B[0mlen\u001B[0m\u001B[1;33m(\u001B[0m\u001B[0mgroups\u001B[0m\u001B[1;33m)\u001B[0m \u001B[1;33m==\u001B[0m \u001B[0ml\u001B[0m \u001B[1;33m:\u001B[0m\u001B[1;33m\u001B[0m\u001B[1;33m\u001B[0m\u001B[0m\n\u001B[0;32m     15\u001B[0m             \u001B[0mgold\u001B[0m\u001B[1;33m.\u001B[0m\u001B[0mappend\u001B[0m\u001B[1;33m(\u001B[0m\u001B[0mle\u001B[0m\u001B[1;33m.\u001B[0m\u001B[0mtransform\u001B[0m\u001B[1;33m(\u001B[0m\u001B[0mgroups\u001B[0m\u001B[1;33m)\u001B[0m\u001B[1;33m[\u001B[0m\u001B[1;36m0\u001B[0m\u001B[1;33m]\u001B[0m\u001B[1;33m)\u001B[0m\u001B[1;33m\u001B[0m\u001B[1;33m\u001B[0m\u001B[0m\n\u001B[1;32m---> 16\u001B[1;33m             \u001B[0mpred\u001B[0m\u001B[1;33m.\u001B[0m\u001B[0mappend\u001B[0m\u001B[1;33m(\u001B[0m\u001B[0mclusters\u001B[0m\u001B[1;33m[\u001B[0m\u001B[0mdataset\u001B[0m\u001B[1;33m]\u001B[0m\u001B[1;33m)\u001B[0m\u001B[1;33m\u001B[0m\u001B[1;33m\u001B[0m\u001B[0m\n\u001B[0m\u001B[0;32m     17\u001B[0m \u001B[1;33m\u001B[0m\u001B[0m\n\u001B[0;32m     18\u001B[0m     \u001B[1;32mreturn\u001B[0m \u001B[0mgold\u001B[0m\u001B[1;33m,\u001B[0m\u001B[0mpred\u001B[0m\u001B[1;33m\u001B[0m\u001B[1;33m\u001B[0m\u001B[0m\n",
      "\u001B[1;31mKeyError\u001B[0m: 'Avignon - Zones piétonnes'"
     ]
    }
   ],
   "source": [
    "print(\"Agglomerative Clustering (15 clusters)\")\n",
    "group_len_1_gold, group_len_1_pred = get_groups_len(\"clusters/sbert_clusters_datasud_ac_15.pkl\",1)\n",
    "all_results.append(evaluate_clusters(group_len_1_gold,group_len_1_pred,repr=\"SBert\", model=\"Agglomerative Clustering (15 clusters)\"))"
   ],
   "metadata": {
    "collapsed": false,
    "pycharm": {
     "name": "#%%\n"
    }
   }
  },
  {
   "cell_type": "code",
   "execution_count": 11,
   "outputs": [
    {
     "name": "stdout",
     "output_type": "stream",
     "text": [
      "K-Means (10 clusters)\n"
     ]
    },
    {
     "ename": "KeyError",
     "evalue": "'Avignon - Zones piétonnes'",
     "output_type": "error",
     "traceback": [
      "\u001B[1;31m---------------------------------------------------------------------------\u001B[0m",
      "\u001B[1;31mKeyError\u001B[0m                                  Traceback (most recent call last)",
      "\u001B[1;32m~\\AppData\\Local\\Temp/ipykernel_10252/1591069554.py\u001B[0m in \u001B[0;36m<module>\u001B[1;34m\u001B[0m\n\u001B[0;32m      1\u001B[0m \u001B[0mprint\u001B[0m\u001B[1;33m(\u001B[0m\u001B[1;34m\"K-Means (10 clusters)\"\u001B[0m\u001B[1;33m)\u001B[0m\u001B[1;33m\u001B[0m\u001B[1;33m\u001B[0m\u001B[0m\n\u001B[1;32m----> 2\u001B[1;33m \u001B[0mgroup_len_1_gold\u001B[0m\u001B[1;33m,\u001B[0m \u001B[0mgroup_len_1_pred\u001B[0m \u001B[1;33m=\u001B[0m \u001B[0mget_groups_len\u001B[0m\u001B[1;33m(\u001B[0m\u001B[1;34m\"clusters/sbert_clusters_datasud_km.pkl\"\u001B[0m\u001B[1;33m,\u001B[0m\u001B[1;36m1\u001B[0m\u001B[1;33m)\u001B[0m\u001B[1;33m\u001B[0m\u001B[1;33m\u001B[0m\u001B[0m\n\u001B[0m\u001B[0;32m      3\u001B[0m \u001B[0mall_results\u001B[0m\u001B[1;33m.\u001B[0m\u001B[0mappend\u001B[0m\u001B[1;33m(\u001B[0m\u001B[0mevaluate_clusters\u001B[0m\u001B[1;33m(\u001B[0m\u001B[0mgroup_len_1_gold\u001B[0m\u001B[1;33m,\u001B[0m\u001B[0mgroup_len_1_pred\u001B[0m\u001B[1;33m,\u001B[0m\u001B[0mrepr\u001B[0m\u001B[1;33m=\u001B[0m\u001B[1;34m\"SBert\"\u001B[0m\u001B[1;33m,\u001B[0m \u001B[0mmodel\u001B[0m\u001B[1;33m=\u001B[0m\u001B[1;34m\"K_Means (10 clusters)\"\u001B[0m\u001B[1;33m)\u001B[0m\u001B[1;33m)\u001B[0m\u001B[1;33m\u001B[0m\u001B[1;33m\u001B[0m\u001B[0m\n",
      "\u001B[1;32m~\\AppData\\Local\\Temp/ipykernel_10252/3868940056.py\u001B[0m in \u001B[0;36mget_groups_len\u001B[1;34m(file_path, l)\u001B[0m\n\u001B[0;32m     14\u001B[0m         \u001B[1;32mif\u001B[0m \u001B[0mlen\u001B[0m\u001B[1;33m(\u001B[0m\u001B[0mgroups\u001B[0m\u001B[1;33m)\u001B[0m \u001B[1;33m==\u001B[0m \u001B[0ml\u001B[0m \u001B[1;33m:\u001B[0m\u001B[1;33m\u001B[0m\u001B[1;33m\u001B[0m\u001B[0m\n\u001B[0;32m     15\u001B[0m             \u001B[0mgold\u001B[0m\u001B[1;33m.\u001B[0m\u001B[0mappend\u001B[0m\u001B[1;33m(\u001B[0m\u001B[0mle\u001B[0m\u001B[1;33m.\u001B[0m\u001B[0mtransform\u001B[0m\u001B[1;33m(\u001B[0m\u001B[0mgroups\u001B[0m\u001B[1;33m)\u001B[0m\u001B[1;33m[\u001B[0m\u001B[1;36m0\u001B[0m\u001B[1;33m]\u001B[0m\u001B[1;33m)\u001B[0m\u001B[1;33m\u001B[0m\u001B[1;33m\u001B[0m\u001B[0m\n\u001B[1;32m---> 16\u001B[1;33m             \u001B[0mpred\u001B[0m\u001B[1;33m.\u001B[0m\u001B[0mappend\u001B[0m\u001B[1;33m(\u001B[0m\u001B[0mclusters\u001B[0m\u001B[1;33m[\u001B[0m\u001B[0mdataset\u001B[0m\u001B[1;33m]\u001B[0m\u001B[1;33m)\u001B[0m\u001B[1;33m\u001B[0m\u001B[1;33m\u001B[0m\u001B[0m\n\u001B[0m\u001B[0;32m     17\u001B[0m \u001B[1;33m\u001B[0m\u001B[0m\n\u001B[0;32m     18\u001B[0m     \u001B[1;32mreturn\u001B[0m \u001B[0mgold\u001B[0m\u001B[1;33m,\u001B[0m\u001B[0mpred\u001B[0m\u001B[1;33m\u001B[0m\u001B[1;33m\u001B[0m\u001B[0m\n",
      "\u001B[1;31mKeyError\u001B[0m: 'Avignon - Zones piétonnes'"
     ]
    }
   ],
   "source": [
    "print(\"K-Means (10 clusters)\")\n",
    "group_len_1_gold, group_len_1_pred = get_groups_len(\"clusters/sbert_clusters_datasud_km.pkl\",1)\n",
    "all_results.append(evaluate_clusters(group_len_1_gold,group_len_1_pred,repr=\"SBert\", model=\"K_Means (10 clusters)\"))"
   ],
   "metadata": {
    "collapsed": false,
    "pycharm": {
     "name": "#%%\n"
    }
   }
  },
  {
   "cell_type": "code",
   "execution_count": 12,
   "outputs": [
    {
     "name": "stdout",
     "output_type": "stream",
     "text": [
      "K-Means (15 clusters)\n"
     ]
    },
    {
     "ename": "KeyError",
     "evalue": "'Avignon - Zones piétonnes'",
     "output_type": "error",
     "traceback": [
      "\u001B[1;31m---------------------------------------------------------------------------\u001B[0m",
      "\u001B[1;31mKeyError\u001B[0m                                  Traceback (most recent call last)",
      "\u001B[1;32m~\\AppData\\Local\\Temp/ipykernel_10252/330437653.py\u001B[0m in \u001B[0;36m<module>\u001B[1;34m\u001B[0m\n\u001B[0;32m      1\u001B[0m \u001B[0mprint\u001B[0m\u001B[1;33m(\u001B[0m\u001B[1;34m\"K-Means (15 clusters)\"\u001B[0m\u001B[1;33m)\u001B[0m\u001B[1;33m\u001B[0m\u001B[1;33m\u001B[0m\u001B[0m\n\u001B[1;32m----> 2\u001B[1;33m \u001B[0mgroup_len_1_gold\u001B[0m\u001B[1;33m,\u001B[0m \u001B[0mgroup_len_1_pred\u001B[0m \u001B[1;33m=\u001B[0m \u001B[0mget_groups_len\u001B[0m\u001B[1;33m(\u001B[0m\u001B[1;34m\"clusters/sbert_clusters_datasud_km_15.pkl\"\u001B[0m\u001B[1;33m,\u001B[0m\u001B[1;36m1\u001B[0m\u001B[1;33m)\u001B[0m\u001B[1;33m\u001B[0m\u001B[1;33m\u001B[0m\u001B[0m\n\u001B[0m\u001B[0;32m      3\u001B[0m \u001B[0mall_results\u001B[0m\u001B[1;33m.\u001B[0m\u001B[0mappend\u001B[0m\u001B[1;33m(\u001B[0m\u001B[0mevaluate_clusters\u001B[0m\u001B[1;33m(\u001B[0m\u001B[0mgroup_len_1_gold\u001B[0m\u001B[1;33m,\u001B[0m\u001B[0mgroup_len_1_pred\u001B[0m\u001B[1;33m,\u001B[0m\u001B[0mrepr\u001B[0m\u001B[1;33m=\u001B[0m\u001B[1;34m\"SBert\"\u001B[0m\u001B[1;33m,\u001B[0m \u001B[0mmodel\u001B[0m\u001B[1;33m=\u001B[0m\u001B[1;34m\"K_Means (15 clusters)\"\u001B[0m\u001B[1;33m)\u001B[0m\u001B[1;33m)\u001B[0m\u001B[1;33m\u001B[0m\u001B[1;33m\u001B[0m\u001B[0m\n",
      "\u001B[1;32m~\\AppData\\Local\\Temp/ipykernel_10252/3868940056.py\u001B[0m in \u001B[0;36mget_groups_len\u001B[1;34m(file_path, l)\u001B[0m\n\u001B[0;32m     14\u001B[0m         \u001B[1;32mif\u001B[0m \u001B[0mlen\u001B[0m\u001B[1;33m(\u001B[0m\u001B[0mgroups\u001B[0m\u001B[1;33m)\u001B[0m \u001B[1;33m==\u001B[0m \u001B[0ml\u001B[0m \u001B[1;33m:\u001B[0m\u001B[1;33m\u001B[0m\u001B[1;33m\u001B[0m\u001B[0m\n\u001B[0;32m     15\u001B[0m             \u001B[0mgold\u001B[0m\u001B[1;33m.\u001B[0m\u001B[0mappend\u001B[0m\u001B[1;33m(\u001B[0m\u001B[0mle\u001B[0m\u001B[1;33m.\u001B[0m\u001B[0mtransform\u001B[0m\u001B[1;33m(\u001B[0m\u001B[0mgroups\u001B[0m\u001B[1;33m)\u001B[0m\u001B[1;33m[\u001B[0m\u001B[1;36m0\u001B[0m\u001B[1;33m]\u001B[0m\u001B[1;33m)\u001B[0m\u001B[1;33m\u001B[0m\u001B[1;33m\u001B[0m\u001B[0m\n\u001B[1;32m---> 16\u001B[1;33m             \u001B[0mpred\u001B[0m\u001B[1;33m.\u001B[0m\u001B[0mappend\u001B[0m\u001B[1;33m(\u001B[0m\u001B[0mclusters\u001B[0m\u001B[1;33m[\u001B[0m\u001B[0mdataset\u001B[0m\u001B[1;33m]\u001B[0m\u001B[1;33m)\u001B[0m\u001B[1;33m\u001B[0m\u001B[1;33m\u001B[0m\u001B[0m\n\u001B[0m\u001B[0;32m     17\u001B[0m \u001B[1;33m\u001B[0m\u001B[0m\n\u001B[0;32m     18\u001B[0m     \u001B[1;32mreturn\u001B[0m \u001B[0mgold\u001B[0m\u001B[1;33m,\u001B[0m\u001B[0mpred\u001B[0m\u001B[1;33m\u001B[0m\u001B[1;33m\u001B[0m\u001B[0m\n",
      "\u001B[1;31mKeyError\u001B[0m: 'Avignon - Zones piétonnes'"
     ]
    }
   ],
   "source": [
    "print(\"K-Means (15 clusters)\")\n",
    "group_len_1_gold, group_len_1_pred = get_groups_len(\"clusters/sbert_clusters_datasud_km_15.pkl\",1)\n",
    "all_results.append(evaluate_clusters(group_len_1_gold,group_len_1_pred,repr=\"SBert\", model=\"K_Means (15 clusters)\"))"
   ],
   "metadata": {
    "collapsed": false,
    "pycharm": {
     "name": "#%%\n"
    }
   }
  },
  {
   "cell_type": "code",
   "execution_count": 13,
   "outputs": [
    {
     "name": "stdout",
     "output_type": "stream",
     "text": [
      "Spectral Clustering (10 clusters)\n"
     ]
    },
    {
     "ename": "KeyError",
     "evalue": "'Avignon - Zones piétonnes'",
     "output_type": "error",
     "traceback": [
      "\u001B[1;31m---------------------------------------------------------------------------\u001B[0m",
      "\u001B[1;31mKeyError\u001B[0m                                  Traceback (most recent call last)",
      "\u001B[1;32m~\\AppData\\Local\\Temp/ipykernel_10252/970159002.py\u001B[0m in \u001B[0;36m<module>\u001B[1;34m\u001B[0m\n\u001B[0;32m      1\u001B[0m \u001B[0mprint\u001B[0m\u001B[1;33m(\u001B[0m\u001B[1;34m\"Spectral Clustering (10 clusters)\"\u001B[0m\u001B[1;33m)\u001B[0m\u001B[1;33m\u001B[0m\u001B[1;33m\u001B[0m\u001B[0m\n\u001B[1;32m----> 2\u001B[1;33m \u001B[0mgroup_len_1_gold\u001B[0m\u001B[1;33m,\u001B[0m \u001B[0mgroup_len_1_pred\u001B[0m \u001B[1;33m=\u001B[0m \u001B[0mget_groups_len\u001B[0m\u001B[1;33m(\u001B[0m\u001B[1;34m\"clusters/sbert_clusters_datasud_sc.pkl\"\u001B[0m\u001B[1;33m,\u001B[0m\u001B[1;36m1\u001B[0m\u001B[1;33m)\u001B[0m\u001B[1;33m\u001B[0m\u001B[1;33m\u001B[0m\u001B[0m\n\u001B[0m\u001B[0;32m      3\u001B[0m \u001B[0mall_results\u001B[0m\u001B[1;33m.\u001B[0m\u001B[0mappend\u001B[0m\u001B[1;33m(\u001B[0m\u001B[0mevaluate_clusters\u001B[0m\u001B[1;33m(\u001B[0m\u001B[0mgroup_len_1_gold\u001B[0m\u001B[1;33m,\u001B[0m\u001B[0mgroup_len_1_pred\u001B[0m\u001B[1;33m,\u001B[0m\u001B[0mrepr\u001B[0m\u001B[1;33m=\u001B[0m\u001B[1;34m\"SBert\"\u001B[0m\u001B[1;33m,\u001B[0m \u001B[0mmodel\u001B[0m\u001B[1;33m=\u001B[0m\u001B[1;34m\"Spectral Clustering (10 clusters)\"\u001B[0m\u001B[1;33m)\u001B[0m\u001B[1;33m)\u001B[0m\u001B[1;33m\u001B[0m\u001B[1;33m\u001B[0m\u001B[0m\n",
      "\u001B[1;32m~\\AppData\\Local\\Temp/ipykernel_10252/3868940056.py\u001B[0m in \u001B[0;36mget_groups_len\u001B[1;34m(file_path, l)\u001B[0m\n\u001B[0;32m     14\u001B[0m         \u001B[1;32mif\u001B[0m \u001B[0mlen\u001B[0m\u001B[1;33m(\u001B[0m\u001B[0mgroups\u001B[0m\u001B[1;33m)\u001B[0m \u001B[1;33m==\u001B[0m \u001B[0ml\u001B[0m \u001B[1;33m:\u001B[0m\u001B[1;33m\u001B[0m\u001B[1;33m\u001B[0m\u001B[0m\n\u001B[0;32m     15\u001B[0m             \u001B[0mgold\u001B[0m\u001B[1;33m.\u001B[0m\u001B[0mappend\u001B[0m\u001B[1;33m(\u001B[0m\u001B[0mle\u001B[0m\u001B[1;33m.\u001B[0m\u001B[0mtransform\u001B[0m\u001B[1;33m(\u001B[0m\u001B[0mgroups\u001B[0m\u001B[1;33m)\u001B[0m\u001B[1;33m[\u001B[0m\u001B[1;36m0\u001B[0m\u001B[1;33m]\u001B[0m\u001B[1;33m)\u001B[0m\u001B[1;33m\u001B[0m\u001B[1;33m\u001B[0m\u001B[0m\n\u001B[1;32m---> 16\u001B[1;33m             \u001B[0mpred\u001B[0m\u001B[1;33m.\u001B[0m\u001B[0mappend\u001B[0m\u001B[1;33m(\u001B[0m\u001B[0mclusters\u001B[0m\u001B[1;33m[\u001B[0m\u001B[0mdataset\u001B[0m\u001B[1;33m]\u001B[0m\u001B[1;33m)\u001B[0m\u001B[1;33m\u001B[0m\u001B[1;33m\u001B[0m\u001B[0m\n\u001B[0m\u001B[0;32m     17\u001B[0m \u001B[1;33m\u001B[0m\u001B[0m\n\u001B[0;32m     18\u001B[0m     \u001B[1;32mreturn\u001B[0m \u001B[0mgold\u001B[0m\u001B[1;33m,\u001B[0m\u001B[0mpred\u001B[0m\u001B[1;33m\u001B[0m\u001B[1;33m\u001B[0m\u001B[0m\n",
      "\u001B[1;31mKeyError\u001B[0m: 'Avignon - Zones piétonnes'"
     ]
    }
   ],
   "source": [
    "print(\"Spectral Clustering (10 clusters)\")\n",
    "group_len_1_gold, group_len_1_pred = get_groups_len(\"clusters/sbert_clusters_datasud_sc.pkl\",1)\n",
    "all_results.append(evaluate_clusters(group_len_1_gold,group_len_1_pred,repr=\"SBert\", model=\"Spectral Clustering (10 clusters)\"))"
   ],
   "metadata": {
    "collapsed": false,
    "pycharm": {
     "name": "#%%\n"
    }
   }
  },
  {
   "cell_type": "code",
   "execution_count": 14,
   "outputs": [
    {
     "name": "stdout",
     "output_type": "stream",
     "text": [
      "Spectral Clustering (15 clusters)\n"
     ]
    },
    {
     "ename": "KeyError",
     "evalue": "'Avignon - Zones piétonnes'",
     "output_type": "error",
     "traceback": [
      "\u001B[1;31m---------------------------------------------------------------------------\u001B[0m",
      "\u001B[1;31mKeyError\u001B[0m                                  Traceback (most recent call last)",
      "\u001B[1;32m~\\AppData\\Local\\Temp/ipykernel_10252/4290346979.py\u001B[0m in \u001B[0;36m<module>\u001B[1;34m\u001B[0m\n\u001B[0;32m      1\u001B[0m \u001B[0mprint\u001B[0m\u001B[1;33m(\u001B[0m\u001B[1;34m\"Spectral Clustering (15 clusters)\"\u001B[0m\u001B[1;33m)\u001B[0m\u001B[1;33m\u001B[0m\u001B[1;33m\u001B[0m\u001B[0m\n\u001B[1;32m----> 2\u001B[1;33m \u001B[0mgroup_len_1_gold\u001B[0m\u001B[1;33m,\u001B[0m \u001B[0mgroup_len_1_pred\u001B[0m \u001B[1;33m=\u001B[0m \u001B[0mget_groups_len\u001B[0m\u001B[1;33m(\u001B[0m\u001B[1;34m\"clusters/sbert_clusters_datasud_sc_15.pkl\"\u001B[0m\u001B[1;33m,\u001B[0m\u001B[1;36m1\u001B[0m\u001B[1;33m)\u001B[0m\u001B[1;33m\u001B[0m\u001B[1;33m\u001B[0m\u001B[0m\n\u001B[0m\u001B[0;32m      3\u001B[0m \u001B[0mall_results\u001B[0m\u001B[1;33m.\u001B[0m\u001B[0mappend\u001B[0m\u001B[1;33m(\u001B[0m\u001B[0mevaluate_clusters\u001B[0m\u001B[1;33m(\u001B[0m\u001B[0mgroup_len_1_gold\u001B[0m\u001B[1;33m,\u001B[0m\u001B[0mgroup_len_1_pred\u001B[0m\u001B[1;33m,\u001B[0m\u001B[0mrepr\u001B[0m\u001B[1;33m=\u001B[0m\u001B[1;34m\"SBert\"\u001B[0m\u001B[1;33m,\u001B[0m \u001B[0mmodel\u001B[0m\u001B[1;33m=\u001B[0m\u001B[1;34m\"Spectral Clustering (15 clusters)\"\u001B[0m\u001B[1;33m)\u001B[0m\u001B[1;33m)\u001B[0m\u001B[1;33m\u001B[0m\u001B[1;33m\u001B[0m\u001B[0m\n",
      "\u001B[1;32m~\\AppData\\Local\\Temp/ipykernel_10252/3868940056.py\u001B[0m in \u001B[0;36mget_groups_len\u001B[1;34m(file_path, l)\u001B[0m\n\u001B[0;32m     14\u001B[0m         \u001B[1;32mif\u001B[0m \u001B[0mlen\u001B[0m\u001B[1;33m(\u001B[0m\u001B[0mgroups\u001B[0m\u001B[1;33m)\u001B[0m \u001B[1;33m==\u001B[0m \u001B[0ml\u001B[0m \u001B[1;33m:\u001B[0m\u001B[1;33m\u001B[0m\u001B[1;33m\u001B[0m\u001B[0m\n\u001B[0;32m     15\u001B[0m             \u001B[0mgold\u001B[0m\u001B[1;33m.\u001B[0m\u001B[0mappend\u001B[0m\u001B[1;33m(\u001B[0m\u001B[0mle\u001B[0m\u001B[1;33m.\u001B[0m\u001B[0mtransform\u001B[0m\u001B[1;33m(\u001B[0m\u001B[0mgroups\u001B[0m\u001B[1;33m)\u001B[0m\u001B[1;33m[\u001B[0m\u001B[1;36m0\u001B[0m\u001B[1;33m]\u001B[0m\u001B[1;33m)\u001B[0m\u001B[1;33m\u001B[0m\u001B[1;33m\u001B[0m\u001B[0m\n\u001B[1;32m---> 16\u001B[1;33m             \u001B[0mpred\u001B[0m\u001B[1;33m.\u001B[0m\u001B[0mappend\u001B[0m\u001B[1;33m(\u001B[0m\u001B[0mclusters\u001B[0m\u001B[1;33m[\u001B[0m\u001B[0mdataset\u001B[0m\u001B[1;33m]\u001B[0m\u001B[1;33m)\u001B[0m\u001B[1;33m\u001B[0m\u001B[1;33m\u001B[0m\u001B[0m\n\u001B[0m\u001B[0;32m     17\u001B[0m \u001B[1;33m\u001B[0m\u001B[0m\n\u001B[0;32m     18\u001B[0m     \u001B[1;32mreturn\u001B[0m \u001B[0mgold\u001B[0m\u001B[1;33m,\u001B[0m\u001B[0mpred\u001B[0m\u001B[1;33m\u001B[0m\u001B[1;33m\u001B[0m\u001B[0m\n",
      "\u001B[1;31mKeyError\u001B[0m: 'Avignon - Zones piétonnes'"
     ]
    }
   ],
   "source": [
    "print(\"Spectral Clustering (15 clusters)\")\n",
    "group_len_1_gold, group_len_1_pred = get_groups_len(\"clusters/sbert_clusters_datasud_sc_15.pkl\",1)\n",
    "all_results.append(evaluate_clusters(group_len_1_gold,group_len_1_pred,repr=\"SBert\", model=\"Spectral Clustering (15 clusters)\"))"
   ],
   "metadata": {
    "collapsed": false,
    "pycharm": {
     "name": "#%%\n"
    }
   }
  },
  {
   "cell_type": "markdown",
   "source": [
    "### En utilisant TF-IDF"
   ],
   "metadata": {
    "collapsed": false
   }
  },
  {
   "cell_type": "code",
   "execution_count": 15,
   "outputs": [
    {
     "name": "stdout",
     "output_type": "stream",
     "text": [
      "Using TF-IDF Agglomerative Clustering (10 clusters)\n"
     ]
    },
    {
     "ename": "KeyError",
     "evalue": "'Avignon - Zones piétonnes'",
     "output_type": "error",
     "traceback": [
      "\u001B[1;31m---------------------------------------------------------------------------\u001B[0m",
      "\u001B[1;31mKeyError\u001B[0m                                  Traceback (most recent call last)",
      "\u001B[1;32m~\\AppData\\Local\\Temp/ipykernel_10252/2968624729.py\u001B[0m in \u001B[0;36m<module>\u001B[1;34m\u001B[0m\n\u001B[0;32m      1\u001B[0m \u001B[0mprint\u001B[0m\u001B[1;33m(\u001B[0m\u001B[1;34m\"Using TF-IDF Agglomerative Clustering (10 clusters)\"\u001B[0m\u001B[1;33m)\u001B[0m\u001B[1;33m\u001B[0m\u001B[1;33m\u001B[0m\u001B[0m\n\u001B[1;32m----> 2\u001B[1;33m \u001B[0mgroup_len_1_gold\u001B[0m\u001B[1;33m,\u001B[0m \u001B[0mgroup_len_1_pred\u001B[0m \u001B[1;33m=\u001B[0m \u001B[0mget_groups_len\u001B[0m\u001B[1;33m(\u001B[0m\u001B[1;34m\"clusters/tfidf_clusters_datasud_ac_10.pkl\"\u001B[0m\u001B[1;33m,\u001B[0m\u001B[1;36m1\u001B[0m\u001B[1;33m)\u001B[0m\u001B[1;33m\u001B[0m\u001B[1;33m\u001B[0m\u001B[0m\n\u001B[0m\u001B[0;32m      3\u001B[0m \u001B[0mall_results\u001B[0m\u001B[1;33m.\u001B[0m\u001B[0mappend\u001B[0m\u001B[1;33m(\u001B[0m\u001B[0mevaluate_clusters\u001B[0m\u001B[1;33m(\u001B[0m\u001B[0mgroup_len_1_gold\u001B[0m\u001B[1;33m,\u001B[0m\u001B[0mgroup_len_1_pred\u001B[0m\u001B[1;33m,\u001B[0m\u001B[0mrepr\u001B[0m\u001B[1;33m=\u001B[0m\u001B[1;34m\"TF_IDF\"\u001B[0m\u001B[1;33m,\u001B[0m \u001B[0mmodel\u001B[0m\u001B[1;33m=\u001B[0m\u001B[1;34m\"Agglomerative Clustering (10 clusters)\"\u001B[0m\u001B[1;33m)\u001B[0m\u001B[1;33m)\u001B[0m\u001B[1;33m\u001B[0m\u001B[1;33m\u001B[0m\u001B[0m\n",
      "\u001B[1;32m~\\AppData\\Local\\Temp/ipykernel_10252/3868940056.py\u001B[0m in \u001B[0;36mget_groups_len\u001B[1;34m(file_path, l)\u001B[0m\n\u001B[0;32m     14\u001B[0m         \u001B[1;32mif\u001B[0m \u001B[0mlen\u001B[0m\u001B[1;33m(\u001B[0m\u001B[0mgroups\u001B[0m\u001B[1;33m)\u001B[0m \u001B[1;33m==\u001B[0m \u001B[0ml\u001B[0m \u001B[1;33m:\u001B[0m\u001B[1;33m\u001B[0m\u001B[1;33m\u001B[0m\u001B[0m\n\u001B[0;32m     15\u001B[0m             \u001B[0mgold\u001B[0m\u001B[1;33m.\u001B[0m\u001B[0mappend\u001B[0m\u001B[1;33m(\u001B[0m\u001B[0mle\u001B[0m\u001B[1;33m.\u001B[0m\u001B[0mtransform\u001B[0m\u001B[1;33m(\u001B[0m\u001B[0mgroups\u001B[0m\u001B[1;33m)\u001B[0m\u001B[1;33m[\u001B[0m\u001B[1;36m0\u001B[0m\u001B[1;33m]\u001B[0m\u001B[1;33m)\u001B[0m\u001B[1;33m\u001B[0m\u001B[1;33m\u001B[0m\u001B[0m\n\u001B[1;32m---> 16\u001B[1;33m             \u001B[0mpred\u001B[0m\u001B[1;33m.\u001B[0m\u001B[0mappend\u001B[0m\u001B[1;33m(\u001B[0m\u001B[0mclusters\u001B[0m\u001B[1;33m[\u001B[0m\u001B[0mdataset\u001B[0m\u001B[1;33m]\u001B[0m\u001B[1;33m)\u001B[0m\u001B[1;33m\u001B[0m\u001B[1;33m\u001B[0m\u001B[0m\n\u001B[0m\u001B[0;32m     17\u001B[0m \u001B[1;33m\u001B[0m\u001B[0m\n\u001B[0;32m     18\u001B[0m     \u001B[1;32mreturn\u001B[0m \u001B[0mgold\u001B[0m\u001B[1;33m,\u001B[0m\u001B[0mpred\u001B[0m\u001B[1;33m\u001B[0m\u001B[1;33m\u001B[0m\u001B[0m\n",
      "\u001B[1;31mKeyError\u001B[0m: 'Avignon - Zones piétonnes'"
     ]
    }
   ],
   "source": [
    "print(\"Using TF-IDF Agglomerative Clustering (10 clusters)\")\n",
    "group_len_1_gold, group_len_1_pred = get_groups_len(\"clusters/tfidf_clusters_datasud_ac_10.pkl\",1)\n",
    "all_results.append(evaluate_clusters(group_len_1_gold,group_len_1_pred,repr=\"TF_IDF\", model=\"Agglomerative Clustering (10 clusters)\"))"
   ],
   "metadata": {
    "collapsed": false,
    "pycharm": {
     "name": "#%%\n"
    }
   }
  },
  {
   "cell_type": "code",
   "execution_count": 16,
   "outputs": [
    {
     "name": "stdout",
     "output_type": "stream",
     "text": [
      "Using TF-IDF Agglomerative Clustering (15 clusters)\n"
     ]
    },
    {
     "ename": "KeyError",
     "evalue": "'Avignon - Zones piétonnes'",
     "output_type": "error",
     "traceback": [
      "\u001B[1;31m---------------------------------------------------------------------------\u001B[0m",
      "\u001B[1;31mKeyError\u001B[0m                                  Traceback (most recent call last)",
      "\u001B[1;32m~\\AppData\\Local\\Temp/ipykernel_10252/305653263.py\u001B[0m in \u001B[0;36m<module>\u001B[1;34m\u001B[0m\n\u001B[0;32m      1\u001B[0m \u001B[0mprint\u001B[0m\u001B[1;33m(\u001B[0m\u001B[1;34m\"Using TF-IDF Agglomerative Clustering (15 clusters)\"\u001B[0m\u001B[1;33m)\u001B[0m\u001B[1;33m\u001B[0m\u001B[1;33m\u001B[0m\u001B[0m\n\u001B[1;32m----> 2\u001B[1;33m \u001B[0mgroup_len_1_gold\u001B[0m\u001B[1;33m,\u001B[0m \u001B[0mgroup_len_1_pred\u001B[0m \u001B[1;33m=\u001B[0m \u001B[0mget_groups_len\u001B[0m\u001B[1;33m(\u001B[0m\u001B[1;34m\"clusters/tfidf_clusters_datasud_ac_15.pkl\"\u001B[0m\u001B[1;33m,\u001B[0m\u001B[1;36m1\u001B[0m\u001B[1;33m)\u001B[0m\u001B[1;33m\u001B[0m\u001B[1;33m\u001B[0m\u001B[0m\n\u001B[0m\u001B[0;32m      3\u001B[0m \u001B[0mall_results\u001B[0m\u001B[1;33m.\u001B[0m\u001B[0mappend\u001B[0m\u001B[1;33m(\u001B[0m\u001B[0mevaluate_clusters\u001B[0m\u001B[1;33m(\u001B[0m\u001B[0mgroup_len_1_gold\u001B[0m\u001B[1;33m,\u001B[0m\u001B[0mgroup_len_1_pred\u001B[0m\u001B[1;33m,\u001B[0m\u001B[0mrepr\u001B[0m\u001B[1;33m=\u001B[0m\u001B[1;34m\"TF_IDF\"\u001B[0m\u001B[1;33m,\u001B[0m \u001B[0mmodel\u001B[0m\u001B[1;33m=\u001B[0m\u001B[1;34m\"Agglomerative Clustering (15 clusters)\"\u001B[0m\u001B[1;33m)\u001B[0m\u001B[1;33m)\u001B[0m\u001B[1;33m\u001B[0m\u001B[1;33m\u001B[0m\u001B[0m\n",
      "\u001B[1;32m~\\AppData\\Local\\Temp/ipykernel_10252/3868940056.py\u001B[0m in \u001B[0;36mget_groups_len\u001B[1;34m(file_path, l)\u001B[0m\n\u001B[0;32m     14\u001B[0m         \u001B[1;32mif\u001B[0m \u001B[0mlen\u001B[0m\u001B[1;33m(\u001B[0m\u001B[0mgroups\u001B[0m\u001B[1;33m)\u001B[0m \u001B[1;33m==\u001B[0m \u001B[0ml\u001B[0m \u001B[1;33m:\u001B[0m\u001B[1;33m\u001B[0m\u001B[1;33m\u001B[0m\u001B[0m\n\u001B[0;32m     15\u001B[0m             \u001B[0mgold\u001B[0m\u001B[1;33m.\u001B[0m\u001B[0mappend\u001B[0m\u001B[1;33m(\u001B[0m\u001B[0mle\u001B[0m\u001B[1;33m.\u001B[0m\u001B[0mtransform\u001B[0m\u001B[1;33m(\u001B[0m\u001B[0mgroups\u001B[0m\u001B[1;33m)\u001B[0m\u001B[1;33m[\u001B[0m\u001B[1;36m0\u001B[0m\u001B[1;33m]\u001B[0m\u001B[1;33m)\u001B[0m\u001B[1;33m\u001B[0m\u001B[1;33m\u001B[0m\u001B[0m\n\u001B[1;32m---> 16\u001B[1;33m             \u001B[0mpred\u001B[0m\u001B[1;33m.\u001B[0m\u001B[0mappend\u001B[0m\u001B[1;33m(\u001B[0m\u001B[0mclusters\u001B[0m\u001B[1;33m[\u001B[0m\u001B[0mdataset\u001B[0m\u001B[1;33m]\u001B[0m\u001B[1;33m)\u001B[0m\u001B[1;33m\u001B[0m\u001B[1;33m\u001B[0m\u001B[0m\n\u001B[0m\u001B[0;32m     17\u001B[0m \u001B[1;33m\u001B[0m\u001B[0m\n\u001B[0;32m     18\u001B[0m     \u001B[1;32mreturn\u001B[0m \u001B[0mgold\u001B[0m\u001B[1;33m,\u001B[0m\u001B[0mpred\u001B[0m\u001B[1;33m\u001B[0m\u001B[1;33m\u001B[0m\u001B[0m\n",
      "\u001B[1;31mKeyError\u001B[0m: 'Avignon - Zones piétonnes'"
     ]
    }
   ],
   "source": [
    "print(\"Using TF-IDF Agglomerative Clustering (15 clusters)\")\n",
    "group_len_1_gold, group_len_1_pred = get_groups_len(\"clusters/tfidf_clusters_datasud_ac_15.pkl\",1)\n",
    "all_results.append(evaluate_clusters(group_len_1_gold,group_len_1_pred,repr=\"TF_IDF\", model=\"Agglomerative Clustering (15 clusters)\"))"
   ],
   "metadata": {
    "collapsed": false,
    "pycharm": {
     "name": "#%%\n"
    }
   }
  },
  {
   "cell_type": "code",
   "execution_count": 17,
   "outputs": [
    {
     "name": "stdout",
     "output_type": "stream",
     "text": [
      "Using TF-IDF K_Means (10 clusters)\n"
     ]
    },
    {
     "ename": "KeyError",
     "evalue": "'Avignon - Zones piétonnes'",
     "output_type": "error",
     "traceback": [
      "\u001B[1;31m---------------------------------------------------------------------------\u001B[0m",
      "\u001B[1;31mKeyError\u001B[0m                                  Traceback (most recent call last)",
      "\u001B[1;32m~\\AppData\\Local\\Temp/ipykernel_10252/915494724.py\u001B[0m in \u001B[0;36m<module>\u001B[1;34m\u001B[0m\n\u001B[0;32m      1\u001B[0m \u001B[0mprint\u001B[0m\u001B[1;33m(\u001B[0m\u001B[1;34m\"Using TF-IDF K_Means (10 clusters)\"\u001B[0m\u001B[1;33m)\u001B[0m\u001B[1;33m\u001B[0m\u001B[1;33m\u001B[0m\u001B[0m\n\u001B[1;32m----> 2\u001B[1;33m \u001B[0mgroup_len_1_gold\u001B[0m\u001B[1;33m,\u001B[0m \u001B[0mgroup_len_1_pred\u001B[0m \u001B[1;33m=\u001B[0m \u001B[0mget_groups_len\u001B[0m\u001B[1;33m(\u001B[0m\u001B[1;34m\"clusters/tfidf_clusters_datasud_km.pkl\"\u001B[0m\u001B[1;33m,\u001B[0m\u001B[1;36m1\u001B[0m\u001B[1;33m)\u001B[0m\u001B[1;33m\u001B[0m\u001B[1;33m\u001B[0m\u001B[0m\n\u001B[0m\u001B[0;32m      3\u001B[0m \u001B[0mall_results\u001B[0m\u001B[1;33m.\u001B[0m\u001B[0mappend\u001B[0m\u001B[1;33m(\u001B[0m\u001B[0mevaluate_clusters\u001B[0m\u001B[1;33m(\u001B[0m\u001B[0mgroup_len_1_gold\u001B[0m\u001B[1;33m,\u001B[0m\u001B[0mgroup_len_1_pred\u001B[0m\u001B[1;33m,\u001B[0m\u001B[0mrepr\u001B[0m\u001B[1;33m=\u001B[0m\u001B[1;34m\"TF_IDF\"\u001B[0m\u001B[1;33m,\u001B[0m \u001B[0mmodel\u001B[0m\u001B[1;33m=\u001B[0m\u001B[1;34m\"K_Means (10 clusters)\"\u001B[0m\u001B[1;33m)\u001B[0m\u001B[1;33m)\u001B[0m\u001B[1;33m\u001B[0m\u001B[1;33m\u001B[0m\u001B[0m\n",
      "\u001B[1;32m~\\AppData\\Local\\Temp/ipykernel_10252/3868940056.py\u001B[0m in \u001B[0;36mget_groups_len\u001B[1;34m(file_path, l)\u001B[0m\n\u001B[0;32m     14\u001B[0m         \u001B[1;32mif\u001B[0m \u001B[0mlen\u001B[0m\u001B[1;33m(\u001B[0m\u001B[0mgroups\u001B[0m\u001B[1;33m)\u001B[0m \u001B[1;33m==\u001B[0m \u001B[0ml\u001B[0m \u001B[1;33m:\u001B[0m\u001B[1;33m\u001B[0m\u001B[1;33m\u001B[0m\u001B[0m\n\u001B[0;32m     15\u001B[0m             \u001B[0mgold\u001B[0m\u001B[1;33m.\u001B[0m\u001B[0mappend\u001B[0m\u001B[1;33m(\u001B[0m\u001B[0mle\u001B[0m\u001B[1;33m.\u001B[0m\u001B[0mtransform\u001B[0m\u001B[1;33m(\u001B[0m\u001B[0mgroups\u001B[0m\u001B[1;33m)\u001B[0m\u001B[1;33m[\u001B[0m\u001B[1;36m0\u001B[0m\u001B[1;33m]\u001B[0m\u001B[1;33m)\u001B[0m\u001B[1;33m\u001B[0m\u001B[1;33m\u001B[0m\u001B[0m\n\u001B[1;32m---> 16\u001B[1;33m             \u001B[0mpred\u001B[0m\u001B[1;33m.\u001B[0m\u001B[0mappend\u001B[0m\u001B[1;33m(\u001B[0m\u001B[0mclusters\u001B[0m\u001B[1;33m[\u001B[0m\u001B[0mdataset\u001B[0m\u001B[1;33m]\u001B[0m\u001B[1;33m)\u001B[0m\u001B[1;33m\u001B[0m\u001B[1;33m\u001B[0m\u001B[0m\n\u001B[0m\u001B[0;32m     17\u001B[0m \u001B[1;33m\u001B[0m\u001B[0m\n\u001B[0;32m     18\u001B[0m     \u001B[1;32mreturn\u001B[0m \u001B[0mgold\u001B[0m\u001B[1;33m,\u001B[0m\u001B[0mpred\u001B[0m\u001B[1;33m\u001B[0m\u001B[1;33m\u001B[0m\u001B[0m\n",
      "\u001B[1;31mKeyError\u001B[0m: 'Avignon - Zones piétonnes'"
     ]
    }
   ],
   "source": [
    "print(\"Using TF-IDF K_Means (10 clusters)\")\n",
    "group_len_1_gold, group_len_1_pred = get_groups_len(\"clusters/tfidf_clusters_datasud_km.pkl\",1)\n",
    "all_results.append(evaluate_clusters(group_len_1_gold,group_len_1_pred,repr=\"TF_IDF\", model=\"K_Means (10 clusters)\"))"
   ],
   "metadata": {
    "collapsed": false,
    "pycharm": {
     "name": "#%%\n"
    }
   }
  },
  {
   "cell_type": "code",
   "execution_count": 18,
   "outputs": [
    {
     "name": "stdout",
     "output_type": "stream",
     "text": [
      "Using TF-IDF K_Means (15 clusters)\n"
     ]
    },
    {
     "ename": "KeyError",
     "evalue": "'Avignon - Zones piétonnes'",
     "output_type": "error",
     "traceback": [
      "\u001B[1;31m---------------------------------------------------------------------------\u001B[0m",
      "\u001B[1;31mKeyError\u001B[0m                                  Traceback (most recent call last)",
      "\u001B[1;32m~\\AppData\\Local\\Temp/ipykernel_10252/686408857.py\u001B[0m in \u001B[0;36m<module>\u001B[1;34m\u001B[0m\n\u001B[0;32m      1\u001B[0m \u001B[0mprint\u001B[0m\u001B[1;33m(\u001B[0m\u001B[1;34m\"Using TF-IDF K_Means (15 clusters)\"\u001B[0m\u001B[1;33m)\u001B[0m\u001B[1;33m\u001B[0m\u001B[1;33m\u001B[0m\u001B[0m\n\u001B[1;32m----> 2\u001B[1;33m \u001B[0mgroup_len_1_gold\u001B[0m\u001B[1;33m,\u001B[0m \u001B[0mgroup_len_1_pred\u001B[0m \u001B[1;33m=\u001B[0m \u001B[0mget_groups_len\u001B[0m\u001B[1;33m(\u001B[0m\u001B[1;34m\"clusters/tfidf_clusters_datasud_km_15.pkl\"\u001B[0m\u001B[1;33m,\u001B[0m\u001B[1;36m1\u001B[0m\u001B[1;33m)\u001B[0m\u001B[1;33m\u001B[0m\u001B[1;33m\u001B[0m\u001B[0m\n\u001B[0m\u001B[0;32m      3\u001B[0m \u001B[0mall_results\u001B[0m\u001B[1;33m.\u001B[0m\u001B[0mappend\u001B[0m\u001B[1;33m(\u001B[0m\u001B[0mevaluate_clusters\u001B[0m\u001B[1;33m(\u001B[0m\u001B[0mgroup_len_1_gold\u001B[0m\u001B[1;33m,\u001B[0m\u001B[0mgroup_len_1_pred\u001B[0m\u001B[1;33m,\u001B[0m\u001B[0mrepr\u001B[0m\u001B[1;33m=\u001B[0m\u001B[1;34m\"TF_IDF\"\u001B[0m\u001B[1;33m,\u001B[0m \u001B[0mmodel\u001B[0m\u001B[1;33m=\u001B[0m\u001B[1;34m\"K_Means (15 clusters)\"\u001B[0m\u001B[1;33m)\u001B[0m\u001B[1;33m)\u001B[0m\u001B[1;33m\u001B[0m\u001B[1;33m\u001B[0m\u001B[0m\n",
      "\u001B[1;32m~\\AppData\\Local\\Temp/ipykernel_10252/3868940056.py\u001B[0m in \u001B[0;36mget_groups_len\u001B[1;34m(file_path, l)\u001B[0m\n\u001B[0;32m     14\u001B[0m         \u001B[1;32mif\u001B[0m \u001B[0mlen\u001B[0m\u001B[1;33m(\u001B[0m\u001B[0mgroups\u001B[0m\u001B[1;33m)\u001B[0m \u001B[1;33m==\u001B[0m \u001B[0ml\u001B[0m \u001B[1;33m:\u001B[0m\u001B[1;33m\u001B[0m\u001B[1;33m\u001B[0m\u001B[0m\n\u001B[0;32m     15\u001B[0m             \u001B[0mgold\u001B[0m\u001B[1;33m.\u001B[0m\u001B[0mappend\u001B[0m\u001B[1;33m(\u001B[0m\u001B[0mle\u001B[0m\u001B[1;33m.\u001B[0m\u001B[0mtransform\u001B[0m\u001B[1;33m(\u001B[0m\u001B[0mgroups\u001B[0m\u001B[1;33m)\u001B[0m\u001B[1;33m[\u001B[0m\u001B[1;36m0\u001B[0m\u001B[1;33m]\u001B[0m\u001B[1;33m)\u001B[0m\u001B[1;33m\u001B[0m\u001B[1;33m\u001B[0m\u001B[0m\n\u001B[1;32m---> 16\u001B[1;33m             \u001B[0mpred\u001B[0m\u001B[1;33m.\u001B[0m\u001B[0mappend\u001B[0m\u001B[1;33m(\u001B[0m\u001B[0mclusters\u001B[0m\u001B[1;33m[\u001B[0m\u001B[0mdataset\u001B[0m\u001B[1;33m]\u001B[0m\u001B[1;33m)\u001B[0m\u001B[1;33m\u001B[0m\u001B[1;33m\u001B[0m\u001B[0m\n\u001B[0m\u001B[0;32m     17\u001B[0m \u001B[1;33m\u001B[0m\u001B[0m\n\u001B[0;32m     18\u001B[0m     \u001B[1;32mreturn\u001B[0m \u001B[0mgold\u001B[0m\u001B[1;33m,\u001B[0m\u001B[0mpred\u001B[0m\u001B[1;33m\u001B[0m\u001B[1;33m\u001B[0m\u001B[0m\n",
      "\u001B[1;31mKeyError\u001B[0m: 'Avignon - Zones piétonnes'"
     ]
    }
   ],
   "source": [
    "print(\"Using TF-IDF K_Means (15 clusters)\")\n",
    "group_len_1_gold, group_len_1_pred = get_groups_len(\"clusters/tfidf_clusters_datasud_km_15.pkl\",1)\n",
    "all_results.append(evaluate_clusters(group_len_1_gold,group_len_1_pred,repr=\"TF_IDF\", model=\"K_Means (15 clusters)\"))"
   ],
   "metadata": {
    "collapsed": false,
    "pycharm": {
     "name": "#%%\n"
    }
   }
  },
  {
   "cell_type": "code",
   "execution_count": 19,
   "outputs": [
    {
     "name": "stdout",
     "output_type": "stream",
     "text": [
      "Using TF-IDF Spectral Clustering (10 clusters)\n"
     ]
    },
    {
     "ename": "KeyError",
     "evalue": "'Avignon - Zones piétonnes'",
     "output_type": "error",
     "traceback": [
      "\u001B[1;31m---------------------------------------------------------------------------\u001B[0m",
      "\u001B[1;31mKeyError\u001B[0m                                  Traceback (most recent call last)",
      "\u001B[1;32m~\\AppData\\Local\\Temp/ipykernel_10252/2680104431.py\u001B[0m in \u001B[0;36m<module>\u001B[1;34m\u001B[0m\n\u001B[0;32m      1\u001B[0m \u001B[0mprint\u001B[0m\u001B[1;33m(\u001B[0m\u001B[1;34m\"Using TF-IDF Spectral Clustering (10 clusters)\"\u001B[0m\u001B[1;33m)\u001B[0m\u001B[1;33m\u001B[0m\u001B[1;33m\u001B[0m\u001B[0m\n\u001B[1;32m----> 2\u001B[1;33m \u001B[0mgroup_len_1_gold\u001B[0m\u001B[1;33m,\u001B[0m \u001B[0mgroup_len_1_pred\u001B[0m \u001B[1;33m=\u001B[0m \u001B[0mget_groups_len\u001B[0m\u001B[1;33m(\u001B[0m\u001B[1;34m\"clusters/tfidf_clusters_datasud_sc_10.pkl\"\u001B[0m\u001B[1;33m,\u001B[0m\u001B[1;36m1\u001B[0m\u001B[1;33m)\u001B[0m\u001B[1;33m\u001B[0m\u001B[1;33m\u001B[0m\u001B[0m\n\u001B[0m\u001B[0;32m      3\u001B[0m \u001B[0mall_results\u001B[0m\u001B[1;33m.\u001B[0m\u001B[0mappend\u001B[0m\u001B[1;33m(\u001B[0m\u001B[0mevaluate_clusters\u001B[0m\u001B[1;33m(\u001B[0m\u001B[0mgroup_len_1_gold\u001B[0m\u001B[1;33m,\u001B[0m\u001B[0mgroup_len_1_pred\u001B[0m\u001B[1;33m,\u001B[0m\u001B[0mrepr\u001B[0m\u001B[1;33m=\u001B[0m\u001B[1;34m\"TF_IDF\"\u001B[0m\u001B[1;33m,\u001B[0m \u001B[0mmodel\u001B[0m\u001B[1;33m=\u001B[0m\u001B[1;34m\"Spectral Clustering (10 clusters)\"\u001B[0m\u001B[1;33m)\u001B[0m\u001B[1;33m)\u001B[0m\u001B[1;33m\u001B[0m\u001B[1;33m\u001B[0m\u001B[0m\n",
      "\u001B[1;32m~\\AppData\\Local\\Temp/ipykernel_10252/3868940056.py\u001B[0m in \u001B[0;36mget_groups_len\u001B[1;34m(file_path, l)\u001B[0m\n\u001B[0;32m     14\u001B[0m         \u001B[1;32mif\u001B[0m \u001B[0mlen\u001B[0m\u001B[1;33m(\u001B[0m\u001B[0mgroups\u001B[0m\u001B[1;33m)\u001B[0m \u001B[1;33m==\u001B[0m \u001B[0ml\u001B[0m \u001B[1;33m:\u001B[0m\u001B[1;33m\u001B[0m\u001B[1;33m\u001B[0m\u001B[0m\n\u001B[0;32m     15\u001B[0m             \u001B[0mgold\u001B[0m\u001B[1;33m.\u001B[0m\u001B[0mappend\u001B[0m\u001B[1;33m(\u001B[0m\u001B[0mle\u001B[0m\u001B[1;33m.\u001B[0m\u001B[0mtransform\u001B[0m\u001B[1;33m(\u001B[0m\u001B[0mgroups\u001B[0m\u001B[1;33m)\u001B[0m\u001B[1;33m[\u001B[0m\u001B[1;36m0\u001B[0m\u001B[1;33m]\u001B[0m\u001B[1;33m)\u001B[0m\u001B[1;33m\u001B[0m\u001B[1;33m\u001B[0m\u001B[0m\n\u001B[1;32m---> 16\u001B[1;33m             \u001B[0mpred\u001B[0m\u001B[1;33m.\u001B[0m\u001B[0mappend\u001B[0m\u001B[1;33m(\u001B[0m\u001B[0mclusters\u001B[0m\u001B[1;33m[\u001B[0m\u001B[0mdataset\u001B[0m\u001B[1;33m]\u001B[0m\u001B[1;33m)\u001B[0m\u001B[1;33m\u001B[0m\u001B[1;33m\u001B[0m\u001B[0m\n\u001B[0m\u001B[0;32m     17\u001B[0m \u001B[1;33m\u001B[0m\u001B[0m\n\u001B[0;32m     18\u001B[0m     \u001B[1;32mreturn\u001B[0m \u001B[0mgold\u001B[0m\u001B[1;33m,\u001B[0m\u001B[0mpred\u001B[0m\u001B[1;33m\u001B[0m\u001B[1;33m\u001B[0m\u001B[0m\n",
      "\u001B[1;31mKeyError\u001B[0m: 'Avignon - Zones piétonnes'"
     ]
    }
   ],
   "source": [
    "print(\"Using TF-IDF Spectral Clustering (10 clusters)\")\n",
    "group_len_1_gold, group_len_1_pred = get_groups_len(\"clusters/tfidf_clusters_datasud_sc_10.pkl\",1)\n",
    "all_results.append(evaluate_clusters(group_len_1_gold,group_len_1_pred,repr=\"TF_IDF\", model=\"Spectral Clustering (10 clusters)\"))"
   ],
   "metadata": {
    "collapsed": false,
    "pycharm": {
     "name": "#%%\n"
    }
   }
  },
  {
   "cell_type": "code",
   "execution_count": 20,
   "outputs": [
    {
     "name": "stdout",
     "output_type": "stream",
     "text": [
      "Using TF-IDF Spectral Clustering (15 clusters)\n"
     ]
    },
    {
     "ename": "KeyError",
     "evalue": "'Avignon - Zones piétonnes'",
     "output_type": "error",
     "traceback": [
      "\u001B[1;31m---------------------------------------------------------------------------\u001B[0m",
      "\u001B[1;31mKeyError\u001B[0m                                  Traceback (most recent call last)",
      "\u001B[1;32m~\\AppData\\Local\\Temp/ipykernel_10252/2144940561.py\u001B[0m in \u001B[0;36m<module>\u001B[1;34m\u001B[0m\n\u001B[0;32m      1\u001B[0m \u001B[0mprint\u001B[0m\u001B[1;33m(\u001B[0m\u001B[1;34m\"Using TF-IDF Spectral Clustering (15 clusters)\"\u001B[0m\u001B[1;33m)\u001B[0m\u001B[1;33m\u001B[0m\u001B[1;33m\u001B[0m\u001B[0m\n\u001B[1;32m----> 2\u001B[1;33m \u001B[0mgroup_len_1_gold\u001B[0m\u001B[1;33m,\u001B[0m \u001B[0mgroup_len_1_pred\u001B[0m \u001B[1;33m=\u001B[0m \u001B[0mget_groups_len\u001B[0m\u001B[1;33m(\u001B[0m\u001B[1;34m\"clusters/tfidf_clusters_datasud_sc_15.pkl\"\u001B[0m\u001B[1;33m,\u001B[0m\u001B[1;36m1\u001B[0m\u001B[1;33m)\u001B[0m\u001B[1;33m\u001B[0m\u001B[1;33m\u001B[0m\u001B[0m\n\u001B[0m\u001B[0;32m      3\u001B[0m \u001B[0mall_results\u001B[0m\u001B[1;33m.\u001B[0m\u001B[0mappend\u001B[0m\u001B[1;33m(\u001B[0m\u001B[0mevaluate_clusters\u001B[0m\u001B[1;33m(\u001B[0m\u001B[0mgroup_len_1_gold\u001B[0m\u001B[1;33m,\u001B[0m\u001B[0mgroup_len_1_pred\u001B[0m\u001B[1;33m,\u001B[0m\u001B[0mrepr\u001B[0m\u001B[1;33m=\u001B[0m\u001B[1;34m\"TF_IDF\"\u001B[0m\u001B[1;33m,\u001B[0m \u001B[0mmodel\u001B[0m\u001B[1;33m=\u001B[0m\u001B[1;34m\"Spectral Clustering (15 clusters)\"\u001B[0m\u001B[1;33m)\u001B[0m\u001B[1;33m)\u001B[0m\u001B[1;33m\u001B[0m\u001B[1;33m\u001B[0m\u001B[0m\n",
      "\u001B[1;32m~\\AppData\\Local\\Temp/ipykernel_10252/3868940056.py\u001B[0m in \u001B[0;36mget_groups_len\u001B[1;34m(file_path, l)\u001B[0m\n\u001B[0;32m     14\u001B[0m         \u001B[1;32mif\u001B[0m \u001B[0mlen\u001B[0m\u001B[1;33m(\u001B[0m\u001B[0mgroups\u001B[0m\u001B[1;33m)\u001B[0m \u001B[1;33m==\u001B[0m \u001B[0ml\u001B[0m \u001B[1;33m:\u001B[0m\u001B[1;33m\u001B[0m\u001B[1;33m\u001B[0m\u001B[0m\n\u001B[0;32m     15\u001B[0m             \u001B[0mgold\u001B[0m\u001B[1;33m.\u001B[0m\u001B[0mappend\u001B[0m\u001B[1;33m(\u001B[0m\u001B[0mle\u001B[0m\u001B[1;33m.\u001B[0m\u001B[0mtransform\u001B[0m\u001B[1;33m(\u001B[0m\u001B[0mgroups\u001B[0m\u001B[1;33m)\u001B[0m\u001B[1;33m[\u001B[0m\u001B[1;36m0\u001B[0m\u001B[1;33m]\u001B[0m\u001B[1;33m)\u001B[0m\u001B[1;33m\u001B[0m\u001B[1;33m\u001B[0m\u001B[0m\n\u001B[1;32m---> 16\u001B[1;33m             \u001B[0mpred\u001B[0m\u001B[1;33m.\u001B[0m\u001B[0mappend\u001B[0m\u001B[1;33m(\u001B[0m\u001B[0mclusters\u001B[0m\u001B[1;33m[\u001B[0m\u001B[0mdataset\u001B[0m\u001B[1;33m]\u001B[0m\u001B[1;33m)\u001B[0m\u001B[1;33m\u001B[0m\u001B[1;33m\u001B[0m\u001B[0m\n\u001B[0m\u001B[0;32m     17\u001B[0m \u001B[1;33m\u001B[0m\u001B[0m\n\u001B[0;32m     18\u001B[0m     \u001B[1;32mreturn\u001B[0m \u001B[0mgold\u001B[0m\u001B[1;33m,\u001B[0m\u001B[0mpred\u001B[0m\u001B[1;33m\u001B[0m\u001B[1;33m\u001B[0m\u001B[0m\n",
      "\u001B[1;31mKeyError\u001B[0m: 'Avignon - Zones piétonnes'"
     ]
    }
   ],
   "source": [
    "print(\"Using TF-IDF Spectral Clustering (15 clusters)\")\n",
    "group_len_1_gold, group_len_1_pred = get_groups_len(\"clusters/tfidf_clusters_datasud_sc_15.pkl\",1)\n",
    "all_results.append(evaluate_clusters(group_len_1_gold,group_len_1_pred,repr=\"TF_IDF\", model=\"Spectral Clustering (15 clusters)\"))"
   ],
   "metadata": {
    "collapsed": false,
    "pycharm": {
     "name": "#%%\n"
    }
   }
  },
  {
   "cell_type": "markdown",
   "source": [
    "### En utilisant LSA"
   ],
   "metadata": {
    "collapsed": false,
    "pycharm": {
     "name": "#%% md\n"
    }
   }
  },
  {
   "cell_type": "code",
   "execution_count": 21,
   "outputs": [
    {
     "name": "stdout",
     "output_type": "stream",
     "text": [
      "Using LSA Agglomerative Clustering (10 clusters)\n"
     ]
    },
    {
     "ename": "FileNotFoundError",
     "evalue": "[Errno 2] No such file or directory: 'clusters/lsa_clusters_datasud_ac_10.pkl'",
     "output_type": "error",
     "traceback": [
      "\u001B[1;31m---------------------------------------------------------------------------\u001B[0m",
      "\u001B[1;31mFileNotFoundError\u001B[0m                         Traceback (most recent call last)",
      "\u001B[1;32m~\\AppData\\Local\\Temp/ipykernel_10252/2445926364.py\u001B[0m in \u001B[0;36m<module>\u001B[1;34m\u001B[0m\n\u001B[0;32m      1\u001B[0m \u001B[0mprint\u001B[0m\u001B[1;33m(\u001B[0m\u001B[1;34m\"Using LSA Agglomerative Clustering (10 clusters)\"\u001B[0m\u001B[1;33m)\u001B[0m\u001B[1;33m\u001B[0m\u001B[1;33m\u001B[0m\u001B[0m\n\u001B[1;32m----> 2\u001B[1;33m \u001B[0mgroup_len_1_gold\u001B[0m\u001B[1;33m,\u001B[0m \u001B[0mgroup_len_1_pred\u001B[0m \u001B[1;33m=\u001B[0m \u001B[0mget_groups_len\u001B[0m\u001B[1;33m(\u001B[0m\u001B[1;34m\"clusters/lsa_clusters_datasud_ac_10.pkl\"\u001B[0m\u001B[1;33m,\u001B[0m\u001B[1;36m1\u001B[0m\u001B[1;33m)\u001B[0m\u001B[1;33m\u001B[0m\u001B[1;33m\u001B[0m\u001B[0m\n\u001B[0m\u001B[0;32m      3\u001B[0m \u001B[0mall_results\u001B[0m\u001B[1;33m.\u001B[0m\u001B[0mappend\u001B[0m\u001B[1;33m(\u001B[0m\u001B[0mevaluate_clusters\u001B[0m\u001B[1;33m(\u001B[0m\u001B[0mgroup_len_1_gold\u001B[0m\u001B[1;33m,\u001B[0m\u001B[0mgroup_len_1_pred\u001B[0m\u001B[1;33m,\u001B[0m\u001B[0mrepr\u001B[0m\u001B[1;33m=\u001B[0m\u001B[1;34m\"LSA\"\u001B[0m\u001B[1;33m,\u001B[0m \u001B[0mmodel\u001B[0m\u001B[1;33m=\u001B[0m\u001B[1;34m\"Agglomerative Clustering (10 clusters)\"\u001B[0m\u001B[1;33m)\u001B[0m\u001B[1;33m)\u001B[0m\u001B[1;33m\u001B[0m\u001B[1;33m\u001B[0m\u001B[0m\n",
      "\u001B[1;32m~\\AppData\\Local\\Temp/ipykernel_10252/3868940056.py\u001B[0m in \u001B[0;36mget_groups_len\u001B[1;34m(file_path, l)\u001B[0m\n\u001B[0;32m      1\u001B[0m \u001B[1;32mdef\u001B[0m \u001B[0mget_groups_len\u001B[0m\u001B[1;33m(\u001B[0m\u001B[0mfile_path\u001B[0m\u001B[1;33m,\u001B[0m\u001B[0ml\u001B[0m\u001B[1;33m)\u001B[0m \u001B[1;33m:\u001B[0m\u001B[1;33m\u001B[0m\u001B[1;33m\u001B[0m\u001B[0m\n\u001B[0;32m      2\u001B[0m \u001B[1;33m\u001B[0m\u001B[0m\n\u001B[1;32m----> 3\u001B[1;33m     \u001B[1;32mwith\u001B[0m \u001B[0mopen\u001B[0m\u001B[1;33m(\u001B[0m\u001B[1;34mf\"{file_path}\"\u001B[0m\u001B[1;33m,\u001B[0m \u001B[1;34m\"rb\"\u001B[0m\u001B[1;33m)\u001B[0m \u001B[1;32mas\u001B[0m \u001B[0minput_file\u001B[0m\u001B[1;33m:\u001B[0m\u001B[1;33m\u001B[0m\u001B[1;33m\u001B[0m\u001B[0m\n\u001B[0m\u001B[0;32m      4\u001B[0m         \u001B[0mclusters\u001B[0m \u001B[1;33m=\u001B[0m \u001B[0mpickle\u001B[0m\u001B[1;33m.\u001B[0m\u001B[0mload\u001B[0m\u001B[1;33m(\u001B[0m\u001B[0minput_file\u001B[0m\u001B[1;33m)\u001B[0m\u001B[1;33m\u001B[0m\u001B[1;33m\u001B[0m\u001B[0m\n\u001B[0;32m      5\u001B[0m \u001B[1;33m\u001B[0m\u001B[0m\n",
      "\u001B[1;31mFileNotFoundError\u001B[0m: [Errno 2] No such file or directory: 'clusters/lsa_clusters_datasud_ac_10.pkl'"
     ]
    }
   ],
   "source": [
    "print(\"Using LSA Agglomerative Clustering (10 clusters)\")\n",
    "group_len_1_gold, group_len_1_pred = get_groups_len(\"clusters/lsa_clusters_datasud_ac_10.pkl\",1)\n",
    "all_results.append(evaluate_clusters(group_len_1_gold,group_len_1_pred,repr=\"LSA\", model=\"Agglomerative Clustering (10 clusters)\"))"
   ],
   "metadata": {
    "collapsed": false,
    "pycharm": {
     "name": "#%%\n"
    }
   }
  },
  {
   "cell_type": "code",
   "execution_count": 89,
   "outputs": [
    {
     "name": "stdout",
     "output_type": "stream",
     "text": [
      "Using LSA Agglomerative Clustering (15 clusters)\n"
     ]
    }
   ],
   "source": [
    "print(\"Using LSA Agglomerative Clustering (15 clusters)\")\n",
    "group_len_1_gold, group_len_1_pred = get_groups_len(\"clusters/lsa_clusters_datasud_ac_15.pkl\",1)\n",
    "all_results.append(evaluate_clusters(group_len_1_gold,group_len_1_pred,repr=\"LSA\", model=\"Agglomerative Clustering (15 clusters)\"))"
   ],
   "metadata": {
    "collapsed": false,
    "pycharm": {
     "name": "#%%\n"
    }
   }
  },
  {
   "cell_type": "code",
   "execution_count": 90,
   "outputs": [
    {
     "name": "stdout",
     "output_type": "stream",
     "text": [
      "Using LSA K_Means (10 clusters)\n"
     ]
    }
   ],
   "source": [
    "print(\"Using LSA K_Means (10 clusters)\")\n",
    "group_len_1_gold, group_len_1_pred = get_groups_len(\"clusters/lsa_clusters_datasud_km_10.pkl\",1)\n",
    "all_results.append(evaluate_clusters(group_len_1_gold,group_len_1_pred,repr=\"LSA\", model=\"K_Means (10 clusters)\"))"
   ],
   "metadata": {
    "collapsed": false,
    "pycharm": {
     "name": "#%%\n"
    }
   }
  },
  {
   "cell_type": "code",
   "execution_count": 91,
   "outputs": [
    {
     "name": "stdout",
     "output_type": "stream",
     "text": [
      "Using LSA K_Means (15 clusters)\n"
     ]
    }
   ],
   "source": [
    "print(\"Using LSA K_Means (15 clusters)\")\n",
    "group_len_1_gold, group_len_1_pred = get_groups_len(\"clusters/lsa_clusters_datasud_km_15.pkl\",1)\n",
    "all_results.append(evaluate_clusters(group_len_1_gold,group_len_1_pred,repr=\"LSA\", model=\"K_Means (15 clusters)\"))"
   ],
   "metadata": {
    "collapsed": false,
    "pycharm": {
     "name": "#%%\n"
    }
   }
  },
  {
   "cell_type": "code",
   "execution_count": 92,
   "outputs": [
    {
     "name": "stdout",
     "output_type": "stream",
     "text": [
      "Using LSA Spectral Clustering (10 clusters)\n"
     ]
    }
   ],
   "source": [
    "print(\"Using LSA Spectral Clustering (10 clusters)\")\n",
    "group_len_1_gold, group_len_1_pred = get_groups_len(\"clusters/lsa_clusters_datasud_sc_10.pkl\",1)\n",
    "all_results.append(evaluate_clusters(group_len_1_gold,group_len_1_pred,repr=\"LSA\", model=\"Spectral Clustering (10 clusters)\"))"
   ],
   "metadata": {
    "collapsed": false,
    "pycharm": {
     "name": "#%%\n"
    }
   }
  },
  {
   "cell_type": "code",
   "execution_count": 93,
   "outputs": [
    {
     "name": "stdout",
     "output_type": "stream",
     "text": [
      "Using LSA Spectral Clustering (15 clusters)\n"
     ]
    }
   ],
   "source": [
    "print(\"Using LSA Spectral Clustering (15 clusters)\")\n",
    "group_len_1_gold, group_len_1_pred = get_groups_len(\"clusters/lsa_clusters_datasud_sc_15.pkl\",1)\n",
    "all_results.append(evaluate_clusters(group_len_1_gold,group_len_1_pred,repr=\"LSA\", model=\"Spectral Clustering (15 clusters)\"))"
   ],
   "metadata": {
    "collapsed": false,
    "pycharm": {
     "name": "#%%\n"
    }
   }
  },
  {
   "cell_type": "markdown",
   "source": [
    "### En utilisant Word2Vec"
   ],
   "metadata": {
    "collapsed": false,
    "pycharm": {
     "name": "#%% md\n"
    }
   }
  },
  {
   "cell_type": "code",
   "execution_count": 22,
   "outputs": [
    {
     "name": "stdout",
     "output_type": "stream",
     "text": [
      "Using Word2Vec Agglomerative Clustering (10 clusters)\n"
     ]
    },
    {
     "ename": "KeyError",
     "evalue": "'Avignon - Zones piétonnes'",
     "output_type": "error",
     "traceback": [
      "\u001B[1;31m---------------------------------------------------------------------------\u001B[0m",
      "\u001B[1;31mKeyError\u001B[0m                                  Traceback (most recent call last)",
      "\u001B[1;32m~\\AppData\\Local\\Temp/ipykernel_10252/1033339147.py\u001B[0m in \u001B[0;36m<module>\u001B[1;34m\u001B[0m\n\u001B[0;32m      1\u001B[0m \u001B[0mprint\u001B[0m\u001B[1;33m(\u001B[0m\u001B[1;34m\"Using Word2Vec Agglomerative Clustering (10 clusters)\"\u001B[0m\u001B[1;33m)\u001B[0m\u001B[1;33m\u001B[0m\u001B[1;33m\u001B[0m\u001B[0m\n\u001B[1;32m----> 2\u001B[1;33m \u001B[0mgroup_len_1_gold\u001B[0m\u001B[1;33m,\u001B[0m \u001B[0mgroup_len_1_pred\u001B[0m \u001B[1;33m=\u001B[0m \u001B[0mget_groups_len\u001B[0m\u001B[1;33m(\u001B[0m\u001B[1;34m\"clusters/word2vec_clusters_datasud_ac_10.pkl\"\u001B[0m\u001B[1;33m,\u001B[0m\u001B[1;36m1\u001B[0m\u001B[1;33m)\u001B[0m\u001B[1;33m\u001B[0m\u001B[1;33m\u001B[0m\u001B[0m\n\u001B[0m\u001B[0;32m      3\u001B[0m \u001B[0mall_results\u001B[0m\u001B[1;33m.\u001B[0m\u001B[0mappend\u001B[0m\u001B[1;33m(\u001B[0m\u001B[0mevaluate_clusters\u001B[0m\u001B[1;33m(\u001B[0m\u001B[0mgroup_len_1_gold\u001B[0m\u001B[1;33m,\u001B[0m\u001B[0mgroup_len_1_pred\u001B[0m\u001B[1;33m,\u001B[0m\u001B[0mrepr\u001B[0m\u001B[1;33m=\u001B[0m\u001B[1;34m\"Word2Vec\"\u001B[0m\u001B[1;33m,\u001B[0m \u001B[0mmodel\u001B[0m\u001B[1;33m=\u001B[0m\u001B[1;34m\"Agglomerative Clustering (10 clusters)\"\u001B[0m\u001B[1;33m)\u001B[0m\u001B[1;33m)\u001B[0m\u001B[1;33m\u001B[0m\u001B[1;33m\u001B[0m\u001B[0m\n",
      "\u001B[1;32m~\\AppData\\Local\\Temp/ipykernel_10252/3868940056.py\u001B[0m in \u001B[0;36mget_groups_len\u001B[1;34m(file_path, l)\u001B[0m\n\u001B[0;32m     14\u001B[0m         \u001B[1;32mif\u001B[0m \u001B[0mlen\u001B[0m\u001B[1;33m(\u001B[0m\u001B[0mgroups\u001B[0m\u001B[1;33m)\u001B[0m \u001B[1;33m==\u001B[0m \u001B[0ml\u001B[0m \u001B[1;33m:\u001B[0m\u001B[1;33m\u001B[0m\u001B[1;33m\u001B[0m\u001B[0m\n\u001B[0;32m     15\u001B[0m             \u001B[0mgold\u001B[0m\u001B[1;33m.\u001B[0m\u001B[0mappend\u001B[0m\u001B[1;33m(\u001B[0m\u001B[0mle\u001B[0m\u001B[1;33m.\u001B[0m\u001B[0mtransform\u001B[0m\u001B[1;33m(\u001B[0m\u001B[0mgroups\u001B[0m\u001B[1;33m)\u001B[0m\u001B[1;33m[\u001B[0m\u001B[1;36m0\u001B[0m\u001B[1;33m]\u001B[0m\u001B[1;33m)\u001B[0m\u001B[1;33m\u001B[0m\u001B[1;33m\u001B[0m\u001B[0m\n\u001B[1;32m---> 16\u001B[1;33m             \u001B[0mpred\u001B[0m\u001B[1;33m.\u001B[0m\u001B[0mappend\u001B[0m\u001B[1;33m(\u001B[0m\u001B[0mclusters\u001B[0m\u001B[1;33m[\u001B[0m\u001B[0mdataset\u001B[0m\u001B[1;33m]\u001B[0m\u001B[1;33m)\u001B[0m\u001B[1;33m\u001B[0m\u001B[1;33m\u001B[0m\u001B[0m\n\u001B[0m\u001B[0;32m     17\u001B[0m \u001B[1;33m\u001B[0m\u001B[0m\n\u001B[0;32m     18\u001B[0m     \u001B[1;32mreturn\u001B[0m \u001B[0mgold\u001B[0m\u001B[1;33m,\u001B[0m\u001B[0mpred\u001B[0m\u001B[1;33m\u001B[0m\u001B[1;33m\u001B[0m\u001B[0m\n",
      "\u001B[1;31mKeyError\u001B[0m: 'Avignon - Zones piétonnes'"
     ]
    }
   ],
   "source": [
    "print(\"Using Word2Vec Agglomerative Clustering (10 clusters)\")\n",
    "group_len_1_gold, group_len_1_pred = get_groups_len(\"clusters/word2vec_clusters_datasud_ac_10.pkl\",1)\n",
    "all_results.append(evaluate_clusters(group_len_1_gold,group_len_1_pred,repr=\"Word2Vec\", model=\"Agglomerative Clustering (10 clusters)\"))"
   ],
   "metadata": {
    "collapsed": false,
    "pycharm": {
     "name": "#%%\n"
    }
   }
  },
  {
   "cell_type": "code",
   "execution_count": 23,
   "outputs": [
    {
     "name": "stdout",
     "output_type": "stream",
     "text": [
      "Using Word2Vec Agglomerative Clustering (15 clusters)\n"
     ]
    },
    {
     "ename": "KeyError",
     "evalue": "'Avignon - Zones piétonnes'",
     "output_type": "error",
     "traceback": [
      "\u001B[1;31m---------------------------------------------------------------------------\u001B[0m",
      "\u001B[1;31mKeyError\u001B[0m                                  Traceback (most recent call last)",
      "\u001B[1;32m~\\AppData\\Local\\Temp/ipykernel_10252/2187267060.py\u001B[0m in \u001B[0;36m<module>\u001B[1;34m\u001B[0m\n\u001B[0;32m      1\u001B[0m \u001B[0mprint\u001B[0m\u001B[1;33m(\u001B[0m\u001B[1;34m\"Using Word2Vec Agglomerative Clustering (15 clusters)\"\u001B[0m\u001B[1;33m)\u001B[0m\u001B[1;33m\u001B[0m\u001B[1;33m\u001B[0m\u001B[0m\n\u001B[1;32m----> 2\u001B[1;33m \u001B[0mgroup_len_1_gold\u001B[0m\u001B[1;33m,\u001B[0m \u001B[0mgroup_len_1_pred\u001B[0m \u001B[1;33m=\u001B[0m \u001B[0mget_groups_len\u001B[0m\u001B[1;33m(\u001B[0m\u001B[1;34m\"clusters/word2vec_clusters_datasud_ac_15.pkl\"\u001B[0m\u001B[1;33m,\u001B[0m\u001B[1;36m1\u001B[0m\u001B[1;33m)\u001B[0m\u001B[1;33m\u001B[0m\u001B[1;33m\u001B[0m\u001B[0m\n\u001B[0m\u001B[0;32m      3\u001B[0m \u001B[0mall_results\u001B[0m\u001B[1;33m.\u001B[0m\u001B[0mappend\u001B[0m\u001B[1;33m(\u001B[0m\u001B[0mevaluate_clusters\u001B[0m\u001B[1;33m(\u001B[0m\u001B[0mgroup_len_1_gold\u001B[0m\u001B[1;33m,\u001B[0m\u001B[0mgroup_len_1_pred\u001B[0m\u001B[1;33m,\u001B[0m\u001B[0mrepr\u001B[0m\u001B[1;33m=\u001B[0m\u001B[1;34m\"Word2Vec\"\u001B[0m\u001B[1;33m,\u001B[0m \u001B[0mmodel\u001B[0m\u001B[1;33m=\u001B[0m\u001B[1;34m\"Agglomerative Clustering (15 clusters)\"\u001B[0m\u001B[1;33m)\u001B[0m\u001B[1;33m)\u001B[0m\u001B[1;33m\u001B[0m\u001B[1;33m\u001B[0m\u001B[0m\n",
      "\u001B[1;32m~\\AppData\\Local\\Temp/ipykernel_10252/3868940056.py\u001B[0m in \u001B[0;36mget_groups_len\u001B[1;34m(file_path, l)\u001B[0m\n\u001B[0;32m     14\u001B[0m         \u001B[1;32mif\u001B[0m \u001B[0mlen\u001B[0m\u001B[1;33m(\u001B[0m\u001B[0mgroups\u001B[0m\u001B[1;33m)\u001B[0m \u001B[1;33m==\u001B[0m \u001B[0ml\u001B[0m \u001B[1;33m:\u001B[0m\u001B[1;33m\u001B[0m\u001B[1;33m\u001B[0m\u001B[0m\n\u001B[0;32m     15\u001B[0m             \u001B[0mgold\u001B[0m\u001B[1;33m.\u001B[0m\u001B[0mappend\u001B[0m\u001B[1;33m(\u001B[0m\u001B[0mle\u001B[0m\u001B[1;33m.\u001B[0m\u001B[0mtransform\u001B[0m\u001B[1;33m(\u001B[0m\u001B[0mgroups\u001B[0m\u001B[1;33m)\u001B[0m\u001B[1;33m[\u001B[0m\u001B[1;36m0\u001B[0m\u001B[1;33m]\u001B[0m\u001B[1;33m)\u001B[0m\u001B[1;33m\u001B[0m\u001B[1;33m\u001B[0m\u001B[0m\n\u001B[1;32m---> 16\u001B[1;33m             \u001B[0mpred\u001B[0m\u001B[1;33m.\u001B[0m\u001B[0mappend\u001B[0m\u001B[1;33m(\u001B[0m\u001B[0mclusters\u001B[0m\u001B[1;33m[\u001B[0m\u001B[0mdataset\u001B[0m\u001B[1;33m]\u001B[0m\u001B[1;33m)\u001B[0m\u001B[1;33m\u001B[0m\u001B[1;33m\u001B[0m\u001B[0m\n\u001B[0m\u001B[0;32m     17\u001B[0m \u001B[1;33m\u001B[0m\u001B[0m\n\u001B[0;32m     18\u001B[0m     \u001B[1;32mreturn\u001B[0m \u001B[0mgold\u001B[0m\u001B[1;33m,\u001B[0m\u001B[0mpred\u001B[0m\u001B[1;33m\u001B[0m\u001B[1;33m\u001B[0m\u001B[0m\n",
      "\u001B[1;31mKeyError\u001B[0m: 'Avignon - Zones piétonnes'"
     ]
    }
   ],
   "source": [
    "print(\"Using Word2Vec Agglomerative Clustering (15 clusters)\")\n",
    "group_len_1_gold, group_len_1_pred = get_groups_len(\"clusters/word2vec_clusters_datasud_ac_15.pkl\",1)\n",
    "all_results.append(evaluate_clusters(group_len_1_gold,group_len_1_pred,repr=\"Word2Vec\", model=\"Agglomerative Clustering (15 clusters)\"))"
   ],
   "metadata": {
    "collapsed": false,
    "pycharm": {
     "name": "#%%\n"
    }
   }
  },
  {
   "cell_type": "code",
   "execution_count": 24,
   "outputs": [
    {
     "name": "stdout",
     "output_type": "stream",
     "text": [
      "Using Word2Vec K_Means (10 clusters)\n"
     ]
    },
    {
     "ename": "KeyError",
     "evalue": "'Avignon - Zones piétonnes'",
     "output_type": "error",
     "traceback": [
      "\u001B[1;31m---------------------------------------------------------------------------\u001B[0m",
      "\u001B[1;31mKeyError\u001B[0m                                  Traceback (most recent call last)",
      "\u001B[1;32m~\\AppData\\Local\\Temp/ipykernel_10252/2814541522.py\u001B[0m in \u001B[0;36m<module>\u001B[1;34m\u001B[0m\n\u001B[0;32m      1\u001B[0m \u001B[0mprint\u001B[0m\u001B[1;33m(\u001B[0m\u001B[1;34m\"Using Word2Vec K_Means (10 clusters)\"\u001B[0m\u001B[1;33m)\u001B[0m\u001B[1;33m\u001B[0m\u001B[1;33m\u001B[0m\u001B[0m\n\u001B[1;32m----> 2\u001B[1;33m \u001B[0mgroup_len_1_gold\u001B[0m\u001B[1;33m,\u001B[0m \u001B[0mgroup_len_1_pred\u001B[0m \u001B[1;33m=\u001B[0m \u001B[0mget_groups_len\u001B[0m\u001B[1;33m(\u001B[0m\u001B[1;34m\"clusters/word2vec_clusters_datasud_km_10.pkl\"\u001B[0m\u001B[1;33m,\u001B[0m\u001B[1;36m1\u001B[0m\u001B[1;33m)\u001B[0m\u001B[1;33m\u001B[0m\u001B[1;33m\u001B[0m\u001B[0m\n\u001B[0m\u001B[0;32m      3\u001B[0m \u001B[0mall_results\u001B[0m\u001B[1;33m.\u001B[0m\u001B[0mappend\u001B[0m\u001B[1;33m(\u001B[0m\u001B[0mevaluate_clusters\u001B[0m\u001B[1;33m(\u001B[0m\u001B[0mgroup_len_1_gold\u001B[0m\u001B[1;33m,\u001B[0m\u001B[0mgroup_len_1_pred\u001B[0m\u001B[1;33m,\u001B[0m\u001B[0mrepr\u001B[0m\u001B[1;33m=\u001B[0m\u001B[1;34m\"Word2Vec\"\u001B[0m\u001B[1;33m,\u001B[0m \u001B[0mmodel\u001B[0m\u001B[1;33m=\u001B[0m\u001B[1;34m\"K_Means (10 clusters)\"\u001B[0m\u001B[1;33m)\u001B[0m\u001B[1;33m)\u001B[0m\u001B[1;33m\u001B[0m\u001B[1;33m\u001B[0m\u001B[0m\n",
      "\u001B[1;32m~\\AppData\\Local\\Temp/ipykernel_10252/3868940056.py\u001B[0m in \u001B[0;36mget_groups_len\u001B[1;34m(file_path, l)\u001B[0m\n\u001B[0;32m     14\u001B[0m         \u001B[1;32mif\u001B[0m \u001B[0mlen\u001B[0m\u001B[1;33m(\u001B[0m\u001B[0mgroups\u001B[0m\u001B[1;33m)\u001B[0m \u001B[1;33m==\u001B[0m \u001B[0ml\u001B[0m \u001B[1;33m:\u001B[0m\u001B[1;33m\u001B[0m\u001B[1;33m\u001B[0m\u001B[0m\n\u001B[0;32m     15\u001B[0m             \u001B[0mgold\u001B[0m\u001B[1;33m.\u001B[0m\u001B[0mappend\u001B[0m\u001B[1;33m(\u001B[0m\u001B[0mle\u001B[0m\u001B[1;33m.\u001B[0m\u001B[0mtransform\u001B[0m\u001B[1;33m(\u001B[0m\u001B[0mgroups\u001B[0m\u001B[1;33m)\u001B[0m\u001B[1;33m[\u001B[0m\u001B[1;36m0\u001B[0m\u001B[1;33m]\u001B[0m\u001B[1;33m)\u001B[0m\u001B[1;33m\u001B[0m\u001B[1;33m\u001B[0m\u001B[0m\n\u001B[1;32m---> 16\u001B[1;33m             \u001B[0mpred\u001B[0m\u001B[1;33m.\u001B[0m\u001B[0mappend\u001B[0m\u001B[1;33m(\u001B[0m\u001B[0mclusters\u001B[0m\u001B[1;33m[\u001B[0m\u001B[0mdataset\u001B[0m\u001B[1;33m]\u001B[0m\u001B[1;33m)\u001B[0m\u001B[1;33m\u001B[0m\u001B[1;33m\u001B[0m\u001B[0m\n\u001B[0m\u001B[0;32m     17\u001B[0m \u001B[1;33m\u001B[0m\u001B[0m\n\u001B[0;32m     18\u001B[0m     \u001B[1;32mreturn\u001B[0m \u001B[0mgold\u001B[0m\u001B[1;33m,\u001B[0m\u001B[0mpred\u001B[0m\u001B[1;33m\u001B[0m\u001B[1;33m\u001B[0m\u001B[0m\n",
      "\u001B[1;31mKeyError\u001B[0m: 'Avignon - Zones piétonnes'"
     ]
    }
   ],
   "source": [
    "print(\"Using Word2Vec K_Means (10 clusters)\")\n",
    "group_len_1_gold, group_len_1_pred = get_groups_len(\"clusters/word2vec_clusters_datasud_km_10.pkl\",1)\n",
    "all_results.append(evaluate_clusters(group_len_1_gold,group_len_1_pred,repr=\"Word2Vec\", model=\"K_Means (10 clusters)\"))"
   ],
   "metadata": {
    "collapsed": false,
    "pycharm": {
     "name": "#%%\n"
    }
   }
  },
  {
   "cell_type": "code",
   "execution_count": 25,
   "outputs": [
    {
     "name": "stdout",
     "output_type": "stream",
     "text": [
      "Using Word2Vec K_Means (15 clusters)\n"
     ]
    },
    {
     "ename": "KeyError",
     "evalue": "'Avignon - Zones piétonnes'",
     "output_type": "error",
     "traceback": [
      "\u001B[1;31m---------------------------------------------------------------------------\u001B[0m",
      "\u001B[1;31mKeyError\u001B[0m                                  Traceback (most recent call last)",
      "\u001B[1;32m~\\AppData\\Local\\Temp/ipykernel_10252/3409083371.py\u001B[0m in \u001B[0;36m<module>\u001B[1;34m\u001B[0m\n\u001B[0;32m      1\u001B[0m \u001B[0mprint\u001B[0m\u001B[1;33m(\u001B[0m\u001B[1;34m\"Using Word2Vec K_Means (15 clusters)\"\u001B[0m\u001B[1;33m)\u001B[0m\u001B[1;33m\u001B[0m\u001B[1;33m\u001B[0m\u001B[0m\n\u001B[1;32m----> 2\u001B[1;33m \u001B[0mgroup_len_1_gold\u001B[0m\u001B[1;33m,\u001B[0m \u001B[0mgroup_len_1_pred\u001B[0m \u001B[1;33m=\u001B[0m \u001B[0mget_groups_len\u001B[0m\u001B[1;33m(\u001B[0m\u001B[1;34m\"clusters/word2vec_clusters_datasud_km_15.pkl\"\u001B[0m\u001B[1;33m,\u001B[0m\u001B[1;36m1\u001B[0m\u001B[1;33m)\u001B[0m\u001B[1;33m\u001B[0m\u001B[1;33m\u001B[0m\u001B[0m\n\u001B[0m\u001B[0;32m      3\u001B[0m \u001B[0mall_results\u001B[0m\u001B[1;33m.\u001B[0m\u001B[0mappend\u001B[0m\u001B[1;33m(\u001B[0m\u001B[0mevaluate_clusters\u001B[0m\u001B[1;33m(\u001B[0m\u001B[0mgroup_len_1_gold\u001B[0m\u001B[1;33m,\u001B[0m\u001B[0mgroup_len_1_pred\u001B[0m\u001B[1;33m,\u001B[0m\u001B[0mrepr\u001B[0m\u001B[1;33m=\u001B[0m\u001B[1;34m\"Word2Vec\"\u001B[0m\u001B[1;33m,\u001B[0m \u001B[0mmodel\u001B[0m\u001B[1;33m=\u001B[0m\u001B[1;34m\"K_Means (15 clusters)\"\u001B[0m\u001B[1;33m)\u001B[0m\u001B[1;33m)\u001B[0m\u001B[1;33m\u001B[0m\u001B[1;33m\u001B[0m\u001B[0m\n",
      "\u001B[1;32m~\\AppData\\Local\\Temp/ipykernel_10252/3868940056.py\u001B[0m in \u001B[0;36mget_groups_len\u001B[1;34m(file_path, l)\u001B[0m\n\u001B[0;32m     14\u001B[0m         \u001B[1;32mif\u001B[0m \u001B[0mlen\u001B[0m\u001B[1;33m(\u001B[0m\u001B[0mgroups\u001B[0m\u001B[1;33m)\u001B[0m \u001B[1;33m==\u001B[0m \u001B[0ml\u001B[0m \u001B[1;33m:\u001B[0m\u001B[1;33m\u001B[0m\u001B[1;33m\u001B[0m\u001B[0m\n\u001B[0;32m     15\u001B[0m             \u001B[0mgold\u001B[0m\u001B[1;33m.\u001B[0m\u001B[0mappend\u001B[0m\u001B[1;33m(\u001B[0m\u001B[0mle\u001B[0m\u001B[1;33m.\u001B[0m\u001B[0mtransform\u001B[0m\u001B[1;33m(\u001B[0m\u001B[0mgroups\u001B[0m\u001B[1;33m)\u001B[0m\u001B[1;33m[\u001B[0m\u001B[1;36m0\u001B[0m\u001B[1;33m]\u001B[0m\u001B[1;33m)\u001B[0m\u001B[1;33m\u001B[0m\u001B[1;33m\u001B[0m\u001B[0m\n\u001B[1;32m---> 16\u001B[1;33m             \u001B[0mpred\u001B[0m\u001B[1;33m.\u001B[0m\u001B[0mappend\u001B[0m\u001B[1;33m(\u001B[0m\u001B[0mclusters\u001B[0m\u001B[1;33m[\u001B[0m\u001B[0mdataset\u001B[0m\u001B[1;33m]\u001B[0m\u001B[1;33m)\u001B[0m\u001B[1;33m\u001B[0m\u001B[1;33m\u001B[0m\u001B[0m\n\u001B[0m\u001B[0;32m     17\u001B[0m \u001B[1;33m\u001B[0m\u001B[0m\n\u001B[0;32m     18\u001B[0m     \u001B[1;32mreturn\u001B[0m \u001B[0mgold\u001B[0m\u001B[1;33m,\u001B[0m\u001B[0mpred\u001B[0m\u001B[1;33m\u001B[0m\u001B[1;33m\u001B[0m\u001B[0m\n",
      "\u001B[1;31mKeyError\u001B[0m: 'Avignon - Zones piétonnes'"
     ]
    }
   ],
   "source": [
    "print(\"Using Word2Vec K_Means (15 clusters)\")\n",
    "group_len_1_gold, group_len_1_pred = get_groups_len(\"clusters/word2vec_clusters_datasud_km_15.pkl\",1)\n",
    "all_results.append(evaluate_clusters(group_len_1_gold,group_len_1_pred,repr=\"Word2Vec\", model=\"K_Means (15 clusters)\"))"
   ],
   "metadata": {
    "collapsed": false,
    "pycharm": {
     "name": "#%%\n"
    }
   }
  },
  {
   "cell_type": "markdown",
   "source": [
    "### En utilisant GloVe"
   ],
   "metadata": {
    "collapsed": false
   }
  },
  {
   "cell_type": "code",
   "execution_count": 26,
   "outputs": [
    {
     "name": "stdout",
     "output_type": "stream",
     "text": [
      "Using GloVe K_Means (10 clusters)\n"
     ]
    }
   ],
   "source": [
    "print(\"Using GloVe K_Means (10 clusters)\")\n",
    "group_len_1_gold, group_len_1_pred = get_groups_len(\"clusters/glove_clusters_datasud_km_10.pkl\",1)\n",
    "all_results.append(evaluate_clusters(group_len_1_gold,group_len_1_pred, repr=\"GloVe\", model=\"K_Means (10 clusters)\"))"
   ],
   "metadata": {
    "collapsed": false,
    "pycharm": {
     "name": "#%%\n"
    }
   }
  },
  {
   "cell_type": "code",
   "execution_count": 27,
   "outputs": [
    {
     "name": "stdout",
     "output_type": "stream",
     "text": [
      "Using GloVe K_Means (15 clusters)\n"
     ]
    }
   ],
   "source": [
    "print(\"Using GloVe K_Means (15 clusters)\")\n",
    "group_len_1_gold, group_len_1_pred = get_groups_len(\"clusters/glove_clusters_datasud_km_15.pkl\",1)\n",
    "all_results.append(evaluate_clusters(group_len_1_gold,group_len_1_pred,repr=\"GloVe\", model=\"K_Means (15 clusters)\"))"
   ],
   "metadata": {
    "collapsed": false,
    "pycharm": {
     "name": "#%%\n"
    }
   }
  },
  {
   "cell_type": "markdown",
   "source": [
    "## Conversion en DataFrame pour la visualisation des résultats"
   ],
   "metadata": {
    "collapsed": false,
    "pycharm": {
     "name": "#%% md\n"
    }
   }
  },
  {
   "cell_type": "code",
   "execution_count": 28,
   "outputs": [],
   "source": [
    "df = pd.DataFrame(all_results)"
   ],
   "metadata": {
    "collapsed": false,
    "pycharm": {
     "name": "#%%\n"
    }
   }
  },
  {
   "cell_type": "code",
   "execution_count": 29,
   "outputs": [],
   "source": [
    "def df_per_reprensentation(repr,df):\n",
    "    df_repre = df[df.representation==repr]\n",
    "    ax = df_repre.plot.bar(x='model',title =f\"Score en fonction des modèles pour {repr}\")\n",
    "    ax.legend(bbox_to_anchor=(1.0, 1.0))"
   ],
   "metadata": {
    "collapsed": false,
    "pycharm": {
     "name": "#%%\n"
    }
   }
  },
  {
   "cell_type": "code",
   "execution_count": 30,
   "outputs": [
    {
     "data": {
      "text/plain": "<Figure size 432x288 with 1 Axes>",
      "image/png": "[encoded data removed]"
     },
     "metadata": {
      "needs_background": "light"
     },
     "output_type": "display_data"
    }
   ],
   "source": [
    "for repr in set(df.representation):\n",
    "    df_per_reprensentation(repr,df)"
   ],
   "metadata": {
    "collapsed": false,
    "pycharm": {
     "name": "#%%\n"
    }
   }
  },
  {
   "cell_type": "code",
   "execution_count": 31,
   "outputs": [],
   "source": [
    "def df_per_model(model,df):\n",
    "    df_repre = df[df.model==model]\n",
    "    ax = df_repre.plot.bar(x='representation',title = model)\n",
    "    ax.legend(bbox_to_anchor=(1.0, 1.0))"
   ],
   "metadata": {
    "collapsed": false,
    "pycharm": {
     "name": "#%%\n"
    }
   }
  },
  {
   "cell_type": "code",
   "execution_count": 32,
   "outputs": [
    {
     "data": {
      "text/plain": "<Figure size 432x288 with 1 Axes>",
      "image/png": "[encoded data removed]"
     },
     "metadata": {
      "needs_background": "light"
     },
     "output_type": "display_data"
    },
    {
     "data": {
      "text/plain": "<Figure size 432x288 with 1 Axes>",
      "image/png": "[encoded data removed]"
     },
     "metadata": {
      "needs_background": "light"
     },
     "output_type": "display_data"
    }
   ],
   "source": [
    "for model in set(df.model):\n",
    "    df_per_model(model,df)"
   ],
   "metadata": {
    "collapsed": false,
    "pycharm": {
     "name": "#%%\n"
    }
   }
  },
  {
   "cell_type": "code",
   "execution_count": 102,
   "outputs": [],
   "source": [],
   "metadata": {
    "collapsed": false,
    "pycharm": {
     "name": "#%%\n"
    }
   }
  }
 ],
 "metadata": {
  "kernelspec": {
   "display_name": "Python 3",
   "language": "python",
   "name": "python3"
  },
  "language_info": {
   "codemirror_mode": {
    "name": "ipython",
    "version": 2
   },
   "file_extension": ".py",
   "mimetype": "text/x-python",
   "name": "python",
   "nbconvert_exporter": "python",
   "pygments_lexer": "ipython2",
   "version": "2.7.6"
  }
 },
 "nbformat": 4,
 "nbformat_minor": 0
}